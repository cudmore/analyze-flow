{
 "cells": [
  {
   "cell_type": "code",
   "execution_count": 2,
   "id": "315d9cff",
   "metadata": {},
   "outputs": [],
   "source": [
    "%load_ext autoreload\n",
    "%autoreload 2\n",
    "\n",
    "import analyzeflow"
   ]
  },
  {
   "cell_type": "code",
   "execution_count": 3,
   "id": "fdcd91c9",
   "metadata": {},
   "outputs": [],
   "source": [
    "dbPath = '/home/cudmore/Sites/declan-flow-analysis-shared/flowSummary-20230216-rhc-v2.csv'\n",
    "dataPath = '/home/cudmore/Sites/declan-flow-analysis-shared/data'"
   ]
  },
  {
   "cell_type": "code",
   "execution_count": 5,
   "id": "56aa5dd0",
   "metadata": {},
   "outputs": [
    {
     "name": "stderr",
     "output_type": "stream",
     "text": [
      " INFO analyzeflow.interface.analyzeflow_app main() line:194 -- Starting sanpy_app.py in __main__()\n",
      " INFO analyzeflow.interface.analyzeflow_app main() line:197 --     2023-02-16 14:36:23\n",
      " INFO analyzeflow.interface.analyzeflow_app main() line:199 --     Python version is 3.9.15\n",
      " INFO analyzeflow.interface.analyzeflow_app main() line:201 --     PyQt version is 5.15.2\n",
      " INFO analyzeflow.interface.analyzeflow_app main() line:208 --     logging to file /home/cudmore/Sites/analyze-flow/analyzeflow/sanpy.log\n",
      " INFO analyzeflow.interface.kymWidget _replot() line:657 -- \n",
      " INFO analyzeflow.interface.kymWidget getContrastEnhance() line:626 -- (10, 100) uint8 shape:(10, 100) max:0\n",
      " INFO analyzeflow.interface.kymWidget getContrastEnhance() line:637 --   lut: <class 'numpy.ndarray'> uint8 shape:(65535,) max:255\n",
      " INFO analyzeflow.interface.kymWidget _replot() line:664 --   startSec:None stopSec:None myTif.shape:(10, 100)\n",
      "QLayout: Attempting to add QLayout \"\" to FlowWindow \"\", which already has a layout\n",
      " INFO analyzeflow.interface.kymWidget slot_setVelPlot() line:86 -- x:3 y:3\n",
      " INFO analyzeflow.bScatterPlotWidget2 loadPath() line:1885 -- setting parentFolder to str\n",
      " INFO analyzeflow.bScatterPlotWidget2 loadPath() line:1888 -- loaded df {path}\n",
      "QLayout: Attempting to add QLayout \"\" to bScatterPlotMainWindow \"\", which already has a layout\n",
      " INFO analyzeflow.bScatterPlotWidget2 getState() line:1783 --   sorting by sortOrder:['parentFolder', 'dateIndex']\n",
      " INFO analyzeflow.bScatterPlotWidget2 slotSelectSquare() line:2398 -- plotNumber:0\n",
      " INFO analyzeflow.bScatterPlotWidget2 slotSelectSquare() line:2400 --   todo: fill in all interface using stateDict\n"
     ]
    },
    {
     "name": "stdout",
     "output_type": "stream",
     "text": [
      "   fileIndex  dateIndex parentFolder                 file  \\\n",
      "0          0          0     20221102  Capillary1_0001.tif   \n",
      "1          1          1     20221102       Capillary2.tif   \n",
      "2          2          2     20221102       Capillary3.tif   \n",
      "3          3          3     20221102  Capillary4_0002.tif   \n",
      "4          4          4     20221102  Capillary5_0001.tif   \n",
      "\n",
      "                     uniqueFile  pntsPerLine  numLines   delx      delt  \\\n",
      "0  20221102/Capillary1_0001.tif           38     30000  0.284  0.001170   \n",
      "1       20221102/Capillary2.tif           25     30000  0.331  0.001146   \n",
      "2       20221102/Capillary3.tif           42     30000  0.331  0.001178   \n",
      "3  20221102/Capillary4_0002.tif           40     30000  0.398  0.001174   \n",
      "4  20221102/Capillary5_0001.tif           42     30000  0.398  0.001178   \n",
      "\n",
      "   Total Dur (s)  ...  Age  Order  Direction  Depth                Quality  \\\n",
      "0         35.099  ...  old    NaN        NaN    NaN                    NaN   \n",
      "1         34.379  ...  old    NaN        NaN    NaN                    NaN   \n",
      "2         35.339  ...  old    NaN        NaN    NaN                    NaN   \n",
      "3         35.219  ...  old    NaN        NaN    NaN  > burst at 23 seconds   \n",
      "4         35.339  ...  old    NaN        NaN    NaN              > stroke?   \n",
      "\n",
      "            declanFile  startSec  stopSec  cudmore_notes  reject  \n",
      "0  Capillary1_0001.tif       NaN      NaN            NaN     NaN  \n",
      "1       Capillary2.tif       NaN      NaN            NaN     NaN  \n",
      "2       Capillary3.tif       NaN      NaN            NaN     NaN  \n",
      "3  Capillary4_0002.tif       NaN     24.0            NaN     NaN  \n",
      "4  Capillary5_0001.tif       NaN      NaN             ok     NaN  \n",
      "\n",
      "[5 rows x 45 columns]\n",
      "updatePlotLayoutGrid()\n"
     ]
    },
    {
     "name": "stderr",
     "output_type": "stream",
     "text": [
      " INFO analyzeflow.bScatterPlotWidget2 update2() line:2294 -- \n",
      " INFO analyzeflow.bScatterPlotWidget2 getState() line:1783 --   sorting by sortOrder:['parentFolder', 'dateIndex']\n",
      " INFO analyzeflow.bScatterPlotWidget2 on_pick_event() line:569 -- === event: \"[111]\"\n",
      " INFO analyzeflow.bScatterPlotWidget2 onPick() line:601 -- \n",
      " INFO analyzeflow.bScatterPlotWidget2 onPick() line:618 --   selected from plot ind:111, offsets values are [112.0 2.714255925]\n",
      " INFO analyzeflow.bScatterPlotWidget2 onPick() line:626 --   -->> signalSelectFromPlot.emit()\n",
      " INFO analyzeflow.bScatterPlotWidget2 onPick() line:628 --     ind: 111\n",
      " INFO analyzeflow.bScatterPlotWidget2 onPick() line:628 --     index: 111\n",
      " INFO analyzeflow.bScatterPlotWidget2 onPick() line:628 --     analysisName: female\n",
      " INFO analyzeflow.bScatterPlotWidget2 onPick() line:628 --     region: n/a\n",
      " INFO analyzeflow.bScatterPlotWidget2 onPick() line:628 --     Sex: female\n",
      " INFO analyzeflow.bScatterPlotWidget2 onPick() line:628 --     xVal: 112\n",
      " INFO analyzeflow.bScatterPlotWidget2 onPick() line:628 --     yVal: 2.714255925\n",
      " INFO analyzeflow.bScatterPlotWidget2 onPick() line:628 --     path: 20230125/20230125_A11_0004.tif\n",
      " INFO analyzeflow.bScatterPlotWidget2 onPick() line:628 --     plotType: Scatter Plot\n",
      " INFO analyzeflow.bScatterPlotWidget2 onPick() line:628 --     dataType: All Spikes\n",
      " INFO analyzeflow.bScatterPlotWidget2 slotSelectFromPlot() line:2394 --   -->> emit signalSelectFromPlot\n",
      " INFO analyzeflow.interface.analyzeflow_app slot_selectFromScatter() line:47 -- _folder: 20230125 _file:20230125_A11_0004.tif\n",
      " INFO analyzeflow.interface.kymWidget _replot() line:657 -- \n",
      " INFO analyzeflow.interface.kymWidget getContrastEnhance() line:626 -- (16, 30000) uint8 shape:(16, 30000) max:73\n",
      " INFO analyzeflow.interface.kymWidget getContrastEnhance() line:637 --   lut: <class 'numpy.ndarray'> uint8 shape:(65535,) max:255\n",
      " INFO analyzeflow.interface.kymWidget _replot() line:664 --   startSec:None stopSec:None myTif.shape:(16, 30000)\n",
      " INFO analyzeflow.interface.kymWidget getContrastEnhance() line:626 -- (16, 30000) uint8 shape:(16, 30000) max:73\n",
      " INFO analyzeflow.interface.kymWidget getContrastEnhance() line:637 --   lut: <class 'numpy.ndarray'> uint8 shape:(65535,) max:255\n",
      " INFO analyzeflow.interface.kymWidget slot_setVelPlot() line:86 -- x:7497 y:7497\n",
      " INFO analyzeflow.bScatterPlotWidget2 slotSelectFromPlot() line:2394 --   -->> emit signalSelectFromPlot\n",
      " INFO analyzeflow.interface.analyzeflow_app slot_selectFromScatter() line:47 -- _folder: 20230125 _file:20230125_A11_0004.tif\n",
      " INFO analyzeflow.interface.kymWidget _replot() line:657 -- \n",
      " INFO analyzeflow.interface.kymWidget getContrastEnhance() line:626 -- (16, 30000) uint8 shape:(16, 30000) max:73\n",
      " INFO analyzeflow.interface.kymWidget getContrastEnhance() line:637 --   lut: <class 'numpy.ndarray'> uint8 shape:(65535,) max:255\n",
      " INFO analyzeflow.interface.kymWidget _replot() line:664 --   startSec:None stopSec:None myTif.shape:(16, 30000)\n",
      " INFO analyzeflow.interface.kymWidget getContrastEnhance() line:626 -- (16, 30000) uint8 shape:(16, 30000) max:73\n",
      " INFO analyzeflow.interface.kymWidget getContrastEnhance() line:637 --   lut: <class 'numpy.ndarray'> uint8 shape:(65535,) max:255\n",
      " INFO analyzeflow.interface.kymWidget slot_setVelPlot() line:86 -- x:7497 y:7497\n",
      " INFO analyzeflow.bScatterPlotWidget2 _selectInd() line:635 -- plotNumber:0 ind: 111\n",
      " INFO analyzeflow.bScatterPlotWidget2 _selectInd() line:641 --   setting scatterPlotSelection x:112 y:2.714255925\n",
      " INFO analyzeflow.bScatterPlotWidget2 _selectInd() line:635 -- plotNumber:1 ind: 111\n",
      " INFO analyzeflow.bScatterPlotWidget2 _selectInd() line:641 --   setting scatterPlotSelection x:112 y:2.714255925\n",
      " INFO analyzeflow.bScatterPlotWidget2 on_pick_event2() line:583 -- ===\n",
      " INFO analyzeflow.bScatterPlotWidget2 on_pick_event2() line:586 --   -->> signalSelectSquare.emit() plotNumber:0 stateDict:\n",
      " INFO analyzeflow.bScatterPlotWidget2 slotSelectSquare() line:2398 -- plotNumber:0\n",
      " INFO analyzeflow.bScatterPlotWidget2 slotSelectSquare() line:2400 --   todo: fill in all interface using stateDict\n",
      " INFO analyzeflow.bScatterPlotWidget2 on_pick_event2() line:583 -- ===\n",
      " INFO analyzeflow.bScatterPlotWidget2 on_pick_event2() line:586 --   -->> signalSelectSquare.emit() plotNumber:1 stateDict:\n",
      " INFO analyzeflow.bScatterPlotWidget2 slotSelectSquare() line:2398 -- plotNumber:1\n",
      " INFO analyzeflow.bScatterPlotWidget2 slotSelectSquare() line:2400 --   todo: fill in all interface using stateDict\n"
     ]
    },
    {
     "ename": "SystemExit",
     "evalue": "0",
     "output_type": "error",
     "traceback": [
      "An exception has occurred, use %tb to see the full traceback.\n",
      "\u001b[0;31mSystemExit\u001b[0m\u001b[0;31m:\u001b[0m 0\n"
     ]
    },
    {
     "name": "stderr",
     "output_type": "stream",
     "text": [
      "/home/cudmore/anaconda3/envs/flow-env/lib/python3.9/site-packages/IPython/core/interactiveshell.py:3441: UserWarning: To exit: use 'exit', 'quit', or Ctrl-D.\n",
      "  warn(\"To exit: use 'exit', 'quit', or Ctrl-D.\", stacklevel=1)\n"
     ]
    }
   ],
   "source": [
    "from analyzeflow.interface.analyzeflow_app import main\n",
    "main(dbPath=dbPath, dataPath=dataPath)"
   ]
  },
  {
   "cell_type": "code",
   "execution_count": null,
   "id": "abba839d",
   "metadata": {},
   "outputs": [],
   "source": []
  }
 ],
 "metadata": {
  "kernelspec": {
   "display_name": "Python 3 (ipykernel)",
   "language": "python",
   "name": "python3"
  },
  "language_info": {
   "codemirror_mode": {
    "name": "ipython",
    "version": 3
   },
   "file_extension": ".py",
   "mimetype": "text/x-python",
   "name": "python",
   "nbconvert_exporter": "python",
   "pygments_lexer": "ipython3",
   "version": "3.9.15"
  }
 },
 "nbformat": 4,
 "nbformat_minor": 5
}
