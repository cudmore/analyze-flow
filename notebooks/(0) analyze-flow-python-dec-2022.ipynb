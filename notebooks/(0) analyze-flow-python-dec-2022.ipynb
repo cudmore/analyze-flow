{
 "cells": [
  {
   "cell_type": "markdown",
   "id": "e436d338",
   "metadata": {},
   "source": [
    "## Code to analyze an entire folder of tif files."
   ]
  },
  {
   "cell_type": "code",
   "execution_count": 3,
   "id": "4761914d",
   "metadata": {},
   "outputs": [
    {
     "name": "stdout",
     "output_type": "stream",
     "text": [
      "The autoreload extension is already loaded. To reload it, use:\n",
      "  %reload_ext autoreload\n"
     ]
    }
   ],
   "source": [
    "%load_ext autoreload\n",
    "%autoreload 2"
   ]
  },
  {
   "cell_type": "code",
   "execution_count": 4,
   "id": "4a0edf42",
   "metadata": {},
   "outputs": [
    {
     "name": "stderr",
     "output_type": "stream",
     "text": [
      " INFO analyzeflow.kymFlowRadon  kymFlowRadon.py mpAnalyzeFlow() line:217 -- tif data (30000, 24)\n",
      " INFO analyzeflow.kymFlowRadon  kymFlowRadon.py mpAnalyzeFlow() line:218 --   windowsize: 16\n",
      " INFO analyzeflow.kymFlowRadon  kymFlowRadon.py mpAnalyzeFlow() line:219 --   startPixel: 0\n",
      " INFO analyzeflow.kymFlowRadon  kymFlowRadon.py mpAnalyzeFlow() line:220 --   stopPixel: 24\n",
      " INFO analyzeflow.kymFlowRadon  kymFlowRadon.py mpAnalyzeFlow() line:221 --   nsteps: 7497\n",
      " INFO analyzeflow.kymFlowRadon  kymFlowRadon.py mpAnalyzeFlow() line:252 --   took 7 seconds\n",
      " INFO analyzeflow.kymFlowFile  kymFlowFile.py saveAnalysis() line:203 -- saving: ../../declan-flow-analysis-shared/20221206/20221206-analysis/20221206_A3_0006.csv\n",
      " INFO analyzeflow.kymFlowRadon  kymFlowRadon.py mpAnalyzeFlow() line:217 -- tif data (30000, 23)\n",
      " INFO analyzeflow.kymFlowRadon  kymFlowRadon.py mpAnalyzeFlow() line:218 --   windowsize: 16\n",
      " INFO analyzeflow.kymFlowRadon  kymFlowRadon.py mpAnalyzeFlow() line:219 --   startPixel: 0\n",
      " INFO analyzeflow.kymFlowRadon  kymFlowRadon.py mpAnalyzeFlow() line:220 --   stopPixel: 23\n",
      " INFO analyzeflow.kymFlowRadon  kymFlowRadon.py mpAnalyzeFlow() line:221 --   nsteps: 7497\n",
      " INFO analyzeflow.kymFlowRadon  kymFlowRadon.py mpAnalyzeFlow() line:252 --   took 7 seconds\n",
      " INFO analyzeflow.kymFlowFile  kymFlowFile.py saveAnalysis() line:203 -- saving: ../../declan-flow-analysis-shared/20221206/20221206-analysis/20221206_A3_0007.csv\n",
      " INFO analyzeflow.kymFlowRadon  kymFlowRadon.py mpAnalyzeFlow() line:217 -- tif data (30000, 18)\n",
      " INFO analyzeflow.kymFlowRadon  kymFlowRadon.py mpAnalyzeFlow() line:218 --   windowsize: 16\n",
      " INFO analyzeflow.kymFlowRadon  kymFlowRadon.py mpAnalyzeFlow() line:219 --   startPixel: 0\n",
      " INFO analyzeflow.kymFlowRadon  kymFlowRadon.py mpAnalyzeFlow() line:220 --   stopPixel: 18\n",
      " INFO analyzeflow.kymFlowRadon  kymFlowRadon.py mpAnalyzeFlow() line:221 --   nsteps: 7497\n",
      " INFO analyzeflow.kymFlowRadon  kymFlowRadon.py mpAnalyzeFlow() line:252 --   took 6 seconds\n",
      " INFO analyzeflow.kymFlowFile  kymFlowFile.py saveAnalysis() line:203 -- saving: ../../declan-flow-analysis-shared/20221206/20221206-analysis/20221206_A3_0008.csv\n",
      " INFO analyzeflow.kymFlowRadon  kymFlowRadon.py mpAnalyzeFlow() line:217 -- tif data (30000, 22)\n",
      " INFO analyzeflow.kymFlowRadon  kymFlowRadon.py mpAnalyzeFlow() line:218 --   windowsize: 16\n",
      " INFO analyzeflow.kymFlowRadon  kymFlowRadon.py mpAnalyzeFlow() line:219 --   startPixel: 0\n",
      " INFO analyzeflow.kymFlowRadon  kymFlowRadon.py mpAnalyzeFlow() line:220 --   stopPixel: 22\n",
      " INFO analyzeflow.kymFlowRadon  kymFlowRadon.py mpAnalyzeFlow() line:221 --   nsteps: 7497\n",
      " INFO analyzeflow.kymFlowRadon  kymFlowRadon.py mpAnalyzeFlow() line:252 --   took 7 seconds\n",
      " INFO analyzeflow.kymFlowFile  kymFlowFile.py saveAnalysis() line:203 -- saving: ../../declan-flow-analysis-shared/20221206/20221206-analysis/20221206_A3_0009.csv\n",
      " INFO analyzeflow.kymFlowRadon  kymFlowRadon.py mpAnalyzeFlow() line:217 -- tif data (30000, 23)\n",
      " INFO analyzeflow.kymFlowRadon  kymFlowRadon.py mpAnalyzeFlow() line:218 --   windowsize: 16\n",
      " INFO analyzeflow.kymFlowRadon  kymFlowRadon.py mpAnalyzeFlow() line:219 --   startPixel: 0\n",
      " INFO analyzeflow.kymFlowRadon  kymFlowRadon.py mpAnalyzeFlow() line:220 --   stopPixel: 23\n",
      " INFO analyzeflow.kymFlowRadon  kymFlowRadon.py mpAnalyzeFlow() line:221 --   nsteps: 7497\n",
      " INFO analyzeflow.kymFlowRadon  kymFlowRadon.py mpAnalyzeFlow() line:252 --   took 7 seconds\n",
      " INFO analyzeflow.kymFlowFile  kymFlowFile.py saveAnalysis() line:203 -- saving: ../../declan-flow-analysis-shared/20221206/20221206-analysis/20221206_A3_0010.csv\n",
      " INFO analyzeflow.kymFlowRadon  kymFlowRadon.py mpAnalyzeFlow() line:217 -- tif data (30000, 21)\n",
      " INFO analyzeflow.kymFlowRadon  kymFlowRadon.py mpAnalyzeFlow() line:218 --   windowsize: 16\n",
      " INFO analyzeflow.kymFlowRadon  kymFlowRadon.py mpAnalyzeFlow() line:219 --   startPixel: 0\n",
      " INFO analyzeflow.kymFlowRadon  kymFlowRadon.py mpAnalyzeFlow() line:220 --   stopPixel: 21\n",
      " INFO analyzeflow.kymFlowRadon  kymFlowRadon.py mpAnalyzeFlow() line:221 --   nsteps: 7497\n",
      " INFO analyzeflow.kymFlowRadon  kymFlowRadon.py mpAnalyzeFlow() line:252 --   took 7 seconds\n",
      " INFO analyzeflow.kymFlowFile  kymFlowFile.py saveAnalysis() line:203 -- saving: ../../declan-flow-analysis-shared/20221206/20221206-analysis/20221206_A3_0011.csv\n",
      " INFO analyzeflow.kymFlowRadon  kymFlowRadon.py mpAnalyzeFlow() line:217 -- tif data (30000, 20)\n",
      " INFO analyzeflow.kymFlowRadon  kymFlowRadon.py mpAnalyzeFlow() line:218 --   windowsize: 16\n",
      " INFO analyzeflow.kymFlowRadon  kymFlowRadon.py mpAnalyzeFlow() line:219 --   startPixel: 0\n",
      " INFO analyzeflow.kymFlowRadon  kymFlowRadon.py mpAnalyzeFlow() line:220 --   stopPixel: 20\n",
      " INFO analyzeflow.kymFlowRadon  kymFlowRadon.py mpAnalyzeFlow() line:221 --   nsteps: 7497\n",
      " INFO analyzeflow.kymFlowRadon  kymFlowRadon.py mpAnalyzeFlow() line:252 --   took 7 seconds\n",
      " INFO analyzeflow.kymFlowFile  kymFlowFile.py saveAnalysis() line:203 -- saving: ../../declan-flow-analysis-shared/20221206/20221206-analysis/20221206_A3_0012.csv\n",
      " INFO analyzeflow.kymFlowRadon  kymFlowRadon.py mpAnalyzeFlow() line:217 -- tif data (30000, 21)\n",
      " INFO analyzeflow.kymFlowRadon  kymFlowRadon.py mpAnalyzeFlow() line:218 --   windowsize: 16\n",
      " INFO analyzeflow.kymFlowRadon  kymFlowRadon.py mpAnalyzeFlow() line:219 --   startPixel: 0\n",
      " INFO analyzeflow.kymFlowRadon  kymFlowRadon.py mpAnalyzeFlow() line:220 --   stopPixel: 21\n",
      " INFO analyzeflow.kymFlowRadon  kymFlowRadon.py mpAnalyzeFlow() line:221 --   nsteps: 7497\n",
      " INFO analyzeflow.kymFlowRadon  kymFlowRadon.py mpAnalyzeFlow() line:252 --   took 8 seconds\n",
      " INFO analyzeflow.kymFlowFile  kymFlowFile.py saveAnalysis() line:203 -- saving: ../../declan-flow-analysis-shared/20221206/20221206-analysis/20221206_A3_0013.csv\n",
      " INFO analyzeflow.kymFlowRadon  kymFlowRadon.py mpAnalyzeFlow() line:217 -- tif data (30000, 24)\n",
      " INFO analyzeflow.kymFlowRadon  kymFlowRadon.py mpAnalyzeFlow() line:218 --   windowsize: 16\n",
      " INFO analyzeflow.kymFlowRadon  kymFlowRadon.py mpAnalyzeFlow() line:219 --   startPixel: 0\n",
      " INFO analyzeflow.kymFlowRadon  kymFlowRadon.py mpAnalyzeFlow() line:220 --   stopPixel: 24\n",
      " INFO analyzeflow.kymFlowRadon  kymFlowRadon.py mpAnalyzeFlow() line:221 --   nsteps: 7497\n",
      " INFO analyzeflow.kymFlowRadon  kymFlowRadon.py mpAnalyzeFlow() line:252 --   took 7 seconds\n",
      " INFO analyzeflow.kymFlowFile  kymFlowFile.py saveAnalysis() line:203 -- saving: ../../declan-flow-analysis-shared/20221206/20221206-analysis/20221206_A3_0014.csv\n"
     ]
    }
   ],
   "source": [
    "from analyzeflow import batchAnalyzeFolder\n",
    "\n",
    "# folderPath = '../../declan-flow-analysis-shared/20221102'  # thinned skull\n",
    "# folderPath = '../../declan-flow-analysis-shared/20221202'  # thinned skull\n",
    "folderPath = '../../declan-flow-analysis-shared/20221206'  # thinned skull\n",
    "\n",
    "batchAnalyzeFolder(folderPath)"
   ]
  },
  {
   "cell_type": "code",
   "execution_count": null,
   "id": "82860ba5",
   "metadata": {},
   "outputs": [],
   "source": []
  }
 ],
 "metadata": {
  "kernelspec": {
   "display_name": "Python 3 (ipykernel)",
   "language": "python",
   "name": "python3"
  },
  "language_info": {
   "codemirror_mode": {
    "name": "ipython",
    "version": 3
   },
   "file_extension": ".py",
   "mimetype": "text/x-python",
   "name": "python",
   "nbconvert_exporter": "python",
   "pygments_lexer": "ipython3",
   "version": "3.9.15"
  }
 },
 "nbformat": 4,
 "nbformat_minor": 5
}
