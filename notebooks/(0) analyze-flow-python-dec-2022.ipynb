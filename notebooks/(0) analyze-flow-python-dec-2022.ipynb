{
 "cells": [
  {
   "cell_type": "markdown",
   "id": "e436d338",
   "metadata": {},
   "source": [
    "## Code to analyze an entire folder of tif files."
   ]
  },
  {
   "cell_type": "code",
   "execution_count": 6,
   "id": "4761914d",
   "metadata": {},
   "outputs": [
    {
     "name": "stdout",
     "output_type": "stream",
     "text": [
      "The autoreload extension is already loaded. To reload it, use:\n",
      "  %reload_ext autoreload\n"
     ]
    }
   ],
   "source": [
    "%load_ext autoreload\n",
    "%autoreload 2\n",
    "\n",
    "import os\n",
    "\n",
    "from analyzeflow import batchAnalyzeFolder\n",
    "from analyzeflow import kymFlowFile\n"
   ]
  },
  {
   "cell_type": "markdown",
   "id": "4cc8d9c6",
   "metadata": {},
   "source": [
    "## Analyze a folder of folders\n",
    "\n",
    "Each folder we analyze is the date folder yyyymmdd\n",
    "\n",
    "Each tif has an output csv with one row per line scan and columns like time and velocity.\n"
   ]
  },
  {
   "cell_type": "code",
   "execution_count": 28,
   "id": "fb868c50",
   "metadata": {},
   "outputs": [
    {
     "name": "stderr",
     "output_type": "stream",
     "text": [
      " INFO analyzeflow.kymFlowRadon batchAnalyzeFolder() line:369 -- === tif file 1 of 9\n",
      " INFO analyzeflow.kymFlowFile analyzeFlowWithRadon() line:97 -- calling mpAnalyzeFlow() for 20221206_A3_0006.tif\n"
     ]
    },
    {
     "name": "stdout",
     "output_type": "stream",
     "text": [
      "=== running analysis on folder: ../../declan-flow-analysis-shared/data/20221102\n"
     ]
    },
    {
     "name": "stderr",
     "output_type": "stream",
     "text": [
      " INFO analyzeflow.kymFlowRadon mpAnalyzeFlow() line:255 --   took 7 seconds\n",
      " INFO analyzeflow.kymFlowFile saveAnalysis() line:322 -- saving: ../../declan-flow-analysis-shared/data/20221206/20221206-analysis/20221206_A3_0006.csv\n",
      " INFO analyzeflow.kymFlowRadon batchAnalyzeFolder() line:369 -- === tif file 2 of 9\n",
      " INFO analyzeflow.kymFlowFile analyzeFlowWithRadon() line:97 -- calling mpAnalyzeFlow() for 20221206_A3_0007.tif\n",
      " INFO analyzeflow.kymFlowRadon mpAnalyzeFlow() line:255 --   took 7 seconds\n",
      " INFO analyzeflow.kymFlowFile saveAnalysis() line:322 -- saving: ../../declan-flow-analysis-shared/data/20221206/20221206-analysis/20221206_A3_0007.csv\n",
      " INFO analyzeflow.kymFlowRadon batchAnalyzeFolder() line:369 -- === tif file 3 of 9\n",
      " INFO analyzeflow.kymFlowFile analyzeFlowWithRadon() line:97 -- calling mpAnalyzeFlow() for 20221206_A3_0008.tif\n",
      " INFO analyzeflow.kymFlowRadon mpAnalyzeFlow() line:255 --   took 6 seconds\n",
      " INFO analyzeflow.kymFlowFile saveAnalysis() line:322 -- saving: ../../declan-flow-analysis-shared/data/20221206/20221206-analysis/20221206_A3_0008.csv\n",
      " INFO analyzeflow.kymFlowRadon batchAnalyzeFolder() line:369 -- === tif file 4 of 9\n",
      " INFO analyzeflow.kymFlowFile analyzeFlowWithRadon() line:97 -- calling mpAnalyzeFlow() for 20221206_A3_0009.tif\n",
      " INFO analyzeflow.kymFlowRadon mpAnalyzeFlow() line:255 --   took 6 seconds\n",
      " INFO analyzeflow.kymFlowFile saveAnalysis() line:322 -- saving: ../../declan-flow-analysis-shared/data/20221206/20221206-analysis/20221206_A3_0009.csv\n",
      " INFO analyzeflow.kymFlowRadon batchAnalyzeFolder() line:369 -- === tif file 5 of 9\n",
      " INFO analyzeflow.kymFlowFile analyzeFlowWithRadon() line:97 -- calling mpAnalyzeFlow() for 20221206_A3_0010.tif\n",
      " INFO analyzeflow.kymFlowRadon mpAnalyzeFlow() line:255 --   took 7 seconds\n",
      " INFO analyzeflow.kymFlowFile saveAnalysis() line:322 -- saving: ../../declan-flow-analysis-shared/data/20221206/20221206-analysis/20221206_A3_0010.csv\n",
      " INFO analyzeflow.kymFlowRadon batchAnalyzeFolder() line:369 -- === tif file 6 of 9\n",
      " INFO analyzeflow.kymFlowFile analyzeFlowWithRadon() line:97 -- calling mpAnalyzeFlow() for 20221206_A3_0011.tif\n",
      " INFO analyzeflow.kymFlowRadon mpAnalyzeFlow() line:255 --   took 6 seconds\n",
      " INFO analyzeflow.kymFlowFile saveAnalysis() line:322 -- saving: ../../declan-flow-analysis-shared/data/20221206/20221206-analysis/20221206_A3_0011.csv\n",
      " INFO analyzeflow.kymFlowRadon batchAnalyzeFolder() line:369 -- === tif file 7 of 9\n",
      " INFO analyzeflow.kymFlowFile analyzeFlowWithRadon() line:97 -- calling mpAnalyzeFlow() for 20221206_A3_0012.tif\n",
      " INFO analyzeflow.kymFlowRadon mpAnalyzeFlow() line:255 --   took 6 seconds\n",
      " INFO analyzeflow.kymFlowFile saveAnalysis() line:322 -- saving: ../../declan-flow-analysis-shared/data/20221206/20221206-analysis/20221206_A3_0012.csv\n",
      " INFO analyzeflow.kymFlowRadon batchAnalyzeFolder() line:369 -- === tif file 8 of 9\n",
      " INFO analyzeflow.kymFlowFile analyzeFlowWithRadon() line:97 -- calling mpAnalyzeFlow() for 20221206_A3_0013.tif\n",
      " INFO analyzeflow.kymFlowRadon mpAnalyzeFlow() line:255 --   took 6 seconds\n",
      " INFO analyzeflow.kymFlowFile saveAnalysis() line:322 -- saving: ../../declan-flow-analysis-shared/data/20221206/20221206-analysis/20221206_A3_0013.csv\n",
      " INFO analyzeflow.kymFlowRadon batchAnalyzeFolder() line:369 -- === tif file 9 of 9\n",
      " INFO analyzeflow.kymFlowFile analyzeFlowWithRadon() line:97 -- calling mpAnalyzeFlow() for 20221206_A3_0014.tif\n",
      " INFO analyzeflow.kymFlowRadon mpAnalyzeFlow() line:255 --   took 7 seconds\n",
      " INFO analyzeflow.kymFlowFile saveAnalysis() line:322 -- saving: ../../declan-flow-analysis-shared/data/20221206/20221206-analysis/20221206_A3_0014.csv\n",
      " INFO analyzeflow.kymFlowRadon batchAnalyzeFolder() line:375 -- Done processing 9 tif files in folder ../../declan-flow-analysis-shared/data/20221206.\n",
      " INFO analyzeflow.kymFlowRadon batchAnalyzeFolder() line:369 -- === tif file 1 of 9\n",
      " INFO analyzeflow.kymFlowFile analyzeFlowWithRadon() line:97 -- calling mpAnalyzeFlow() for 20221206_A3_0006.tif\n"
     ]
    },
    {
     "name": "stdout",
     "output_type": "stream",
     "text": [
      "=== running analysis on folder: ../../declan-flow-analysis-shared/data/20221202\n"
     ]
    },
    {
     "name": "stderr",
     "output_type": "stream",
     "text": [
      " INFO analyzeflow.kymFlowRadon mpAnalyzeFlow() line:255 --   took 7 seconds\n",
      " INFO analyzeflow.kymFlowFile saveAnalysis() line:322 -- saving: ../../declan-flow-analysis-shared/data/20221206/20221206-analysis/20221206_A3_0006.csv\n",
      " INFO analyzeflow.kymFlowRadon batchAnalyzeFolder() line:369 -- === tif file 2 of 9\n",
      " INFO analyzeflow.kymFlowFile analyzeFlowWithRadon() line:97 -- calling mpAnalyzeFlow() for 20221206_A3_0007.tif\n",
      " INFO analyzeflow.kymFlowRadon mpAnalyzeFlow() line:255 --   took 7 seconds\n",
      " INFO analyzeflow.kymFlowFile saveAnalysis() line:322 -- saving: ../../declan-flow-analysis-shared/data/20221206/20221206-analysis/20221206_A3_0007.csv\n",
      " INFO analyzeflow.kymFlowRadon batchAnalyzeFolder() line:369 -- === tif file 3 of 9\n",
      " INFO analyzeflow.kymFlowFile analyzeFlowWithRadon() line:97 -- calling mpAnalyzeFlow() for 20221206_A3_0008.tif\n",
      " INFO analyzeflow.kymFlowRadon mpAnalyzeFlow() line:255 --   took 6 seconds\n",
      " INFO analyzeflow.kymFlowFile saveAnalysis() line:322 -- saving: ../../declan-flow-analysis-shared/data/20221206/20221206-analysis/20221206_A3_0008.csv\n",
      " INFO analyzeflow.kymFlowRadon batchAnalyzeFolder() line:369 -- === tif file 4 of 9\n",
      " INFO analyzeflow.kymFlowFile analyzeFlowWithRadon() line:97 -- calling mpAnalyzeFlow() for 20221206_A3_0009.tif\n",
      " INFO analyzeflow.kymFlowRadon mpAnalyzeFlow() line:255 --   took 6 seconds\n",
      " INFO analyzeflow.kymFlowFile saveAnalysis() line:322 -- saving: ../../declan-flow-analysis-shared/data/20221206/20221206-analysis/20221206_A3_0009.csv\n",
      " INFO analyzeflow.kymFlowRadon batchAnalyzeFolder() line:369 -- === tif file 5 of 9\n",
      " INFO analyzeflow.kymFlowFile analyzeFlowWithRadon() line:97 -- calling mpAnalyzeFlow() for 20221206_A3_0010.tif\n",
      " INFO analyzeflow.kymFlowRadon mpAnalyzeFlow() line:255 --   took 7 seconds\n",
      " INFO analyzeflow.kymFlowFile saveAnalysis() line:322 -- saving: ../../declan-flow-analysis-shared/data/20221206/20221206-analysis/20221206_A3_0010.csv\n",
      " INFO analyzeflow.kymFlowRadon batchAnalyzeFolder() line:369 -- === tif file 6 of 9\n",
      " INFO analyzeflow.kymFlowFile analyzeFlowWithRadon() line:97 -- calling mpAnalyzeFlow() for 20221206_A3_0011.tif\n",
      " INFO analyzeflow.kymFlowRadon mpAnalyzeFlow() line:255 --   took 6 seconds\n",
      " INFO analyzeflow.kymFlowFile saveAnalysis() line:322 -- saving: ../../declan-flow-analysis-shared/data/20221206/20221206-analysis/20221206_A3_0011.csv\n",
      " INFO analyzeflow.kymFlowRadon batchAnalyzeFolder() line:369 -- === tif file 7 of 9\n",
      " INFO analyzeflow.kymFlowFile analyzeFlowWithRadon() line:97 -- calling mpAnalyzeFlow() for 20221206_A3_0012.tif\n",
      " INFO analyzeflow.kymFlowRadon mpAnalyzeFlow() line:255 --   took 6 seconds\n",
      " INFO analyzeflow.kymFlowFile saveAnalysis() line:322 -- saving: ../../declan-flow-analysis-shared/data/20221206/20221206-analysis/20221206_A3_0012.csv\n",
      " INFO analyzeflow.kymFlowRadon batchAnalyzeFolder() line:369 -- === tif file 8 of 9\n",
      " INFO analyzeflow.kymFlowFile analyzeFlowWithRadon() line:97 -- calling mpAnalyzeFlow() for 20221206_A3_0013.tif\n",
      " INFO analyzeflow.kymFlowRadon mpAnalyzeFlow() line:255 --   took 6 seconds\n",
      " INFO analyzeflow.kymFlowFile saveAnalysis() line:322 -- saving: ../../declan-flow-analysis-shared/data/20221206/20221206-analysis/20221206_A3_0013.csv\n",
      " INFO analyzeflow.kymFlowRadon batchAnalyzeFolder() line:369 -- === tif file 9 of 9\n",
      " INFO analyzeflow.kymFlowFile analyzeFlowWithRadon() line:97 -- calling mpAnalyzeFlow() for 20221206_A3_0014.tif\n",
      " INFO analyzeflow.kymFlowRadon mpAnalyzeFlow() line:255 --   took 7 seconds\n",
      " INFO analyzeflow.kymFlowFile saveAnalysis() line:322 -- saving: ../../declan-flow-analysis-shared/data/20221206/20221206-analysis/20221206_A3_0014.csv\n",
      " INFO analyzeflow.kymFlowRadon batchAnalyzeFolder() line:375 -- Done processing 9 tif files in folder ../../declan-flow-analysis-shared/data/20221206.\n",
      " INFO analyzeflow.kymFlowRadon batchAnalyzeFolder() line:369 -- === tif file 1 of 9\n",
      " INFO analyzeflow.kymFlowFile analyzeFlowWithRadon() line:97 -- calling mpAnalyzeFlow() for 20221206_A3_0006.tif\n"
     ]
    },
    {
     "name": "stdout",
     "output_type": "stream",
     "text": [
      "=== running analysis on folder: ../../declan-flow-analysis-shared/data/20221206\n"
     ]
    },
    {
     "name": "stderr",
     "output_type": "stream",
     "text": [
      " INFO analyzeflow.kymFlowRadon mpAnalyzeFlow() line:255 --   took 7 seconds\n",
      " INFO analyzeflow.kymFlowFile saveAnalysis() line:322 -- saving: ../../declan-flow-analysis-shared/data/20221206/20221206-analysis/20221206_A3_0006.csv\n",
      " INFO analyzeflow.kymFlowRadon batchAnalyzeFolder() line:369 -- === tif file 2 of 9\n",
      " INFO analyzeflow.kymFlowFile analyzeFlowWithRadon() line:97 -- calling mpAnalyzeFlow() for 20221206_A3_0007.tif\n",
      " INFO analyzeflow.kymFlowRadon mpAnalyzeFlow() line:255 --   took 6 seconds\n",
      " INFO analyzeflow.kymFlowFile saveAnalysis() line:322 -- saving: ../../declan-flow-analysis-shared/data/20221206/20221206-analysis/20221206_A3_0007.csv\n",
      " INFO analyzeflow.kymFlowRadon batchAnalyzeFolder() line:369 -- === tif file 3 of 9\n",
      " INFO analyzeflow.kymFlowFile analyzeFlowWithRadon() line:97 -- calling mpAnalyzeFlow() for 20221206_A3_0008.tif\n",
      " INFO analyzeflow.kymFlowRadon mpAnalyzeFlow() line:255 --   took 6 seconds\n",
      " INFO analyzeflow.kymFlowFile saveAnalysis() line:322 -- saving: ../../declan-flow-analysis-shared/data/20221206/20221206-analysis/20221206_A3_0008.csv\n",
      " INFO analyzeflow.kymFlowRadon batchAnalyzeFolder() line:369 -- === tif file 4 of 9\n",
      " INFO analyzeflow.kymFlowFile analyzeFlowWithRadon() line:97 -- calling mpAnalyzeFlow() for 20221206_A3_0009.tif\n",
      " INFO analyzeflow.kymFlowRadon mpAnalyzeFlow() line:255 --   took 6 seconds\n",
      " INFO analyzeflow.kymFlowFile saveAnalysis() line:322 -- saving: ../../declan-flow-analysis-shared/data/20221206/20221206-analysis/20221206_A3_0009.csv\n",
      " INFO analyzeflow.kymFlowRadon batchAnalyzeFolder() line:369 -- === tif file 5 of 9\n",
      " INFO analyzeflow.kymFlowFile analyzeFlowWithRadon() line:97 -- calling mpAnalyzeFlow() for 20221206_A3_0010.tif\n",
      " INFO analyzeflow.kymFlowRadon mpAnalyzeFlow() line:255 --   took 7 seconds\n",
      " INFO analyzeflow.kymFlowFile saveAnalysis() line:322 -- saving: ../../declan-flow-analysis-shared/data/20221206/20221206-analysis/20221206_A3_0010.csv\n",
      " INFO analyzeflow.kymFlowRadon batchAnalyzeFolder() line:369 -- === tif file 6 of 9\n",
      " INFO analyzeflow.kymFlowFile analyzeFlowWithRadon() line:97 -- calling mpAnalyzeFlow() for 20221206_A3_0011.tif\n",
      " INFO analyzeflow.kymFlowRadon mpAnalyzeFlow() line:255 --   took 6 seconds\n",
      " INFO analyzeflow.kymFlowFile saveAnalysis() line:322 -- saving: ../../declan-flow-analysis-shared/data/20221206/20221206-analysis/20221206_A3_0011.csv\n",
      " INFO analyzeflow.kymFlowRadon batchAnalyzeFolder() line:369 -- === tif file 7 of 9\n",
      " INFO analyzeflow.kymFlowFile analyzeFlowWithRadon() line:97 -- calling mpAnalyzeFlow() for 20221206_A3_0012.tif\n",
      " INFO analyzeflow.kymFlowRadon mpAnalyzeFlow() line:255 --   took 6 seconds\n",
      " INFO analyzeflow.kymFlowFile saveAnalysis() line:322 -- saving: ../../declan-flow-analysis-shared/data/20221206/20221206-analysis/20221206_A3_0012.csv\n",
      " INFO analyzeflow.kymFlowRadon batchAnalyzeFolder() line:369 -- === tif file 8 of 9\n",
      " INFO analyzeflow.kymFlowFile analyzeFlowWithRadon() line:97 -- calling mpAnalyzeFlow() for 20221206_A3_0013.tif\n",
      " INFO analyzeflow.kymFlowRadon mpAnalyzeFlow() line:255 --   took 6 seconds\n",
      " INFO analyzeflow.kymFlowFile saveAnalysis() line:322 -- saving: ../../declan-flow-analysis-shared/data/20221206/20221206-analysis/20221206_A3_0013.csv\n",
      " INFO analyzeflow.kymFlowRadon batchAnalyzeFolder() line:369 -- === tif file 9 of 9\n",
      " INFO analyzeflow.kymFlowFile analyzeFlowWithRadon() line:97 -- calling mpAnalyzeFlow() for 20221206_A3_0014.tif\n",
      " INFO analyzeflow.kymFlowRadon mpAnalyzeFlow() line:255 --   took 7 seconds\n",
      " INFO analyzeflow.kymFlowFile saveAnalysis() line:322 -- saving: ../../declan-flow-analysis-shared/data/20221206/20221206-analysis/20221206_A3_0014.csv\n",
      " INFO analyzeflow.kymFlowRadon batchAnalyzeFolder() line:375 -- Done processing 9 tif files in folder ../../declan-flow-analysis-shared/data/20221206.\n",
      " INFO analyzeflow.kymFlowRadon batchAnalyzeFolder() line:369 -- === tif file 1 of 9\n",
      " INFO analyzeflow.kymFlowFile analyzeFlowWithRadon() line:97 -- calling mpAnalyzeFlow() for 20221206_A3_0006.tif\n"
     ]
    },
    {
     "name": "stdout",
     "output_type": "stream",
     "text": [
      "=== running analysis on folder: ../../declan-flow-analysis-shared/data/20221216\n"
     ]
    },
    {
     "name": "stderr",
     "output_type": "stream",
     "text": [
      " INFO analyzeflow.kymFlowRadon mpAnalyzeFlow() line:255 --   took 7 seconds\n",
      " INFO analyzeflow.kymFlowFile saveAnalysis() line:322 -- saving: ../../declan-flow-analysis-shared/data/20221206/20221206-analysis/20221206_A3_0006.csv\n",
      " INFO analyzeflow.kymFlowRadon batchAnalyzeFolder() line:369 -- === tif file 2 of 9\n",
      " INFO analyzeflow.kymFlowFile analyzeFlowWithRadon() line:97 -- calling mpAnalyzeFlow() for 20221206_A3_0007.tif\n",
      " INFO analyzeflow.kymFlowRadon mpAnalyzeFlow() line:255 --   took 7 seconds\n",
      " INFO analyzeflow.kymFlowFile saveAnalysis() line:322 -- saving: ../../declan-flow-analysis-shared/data/20221206/20221206-analysis/20221206_A3_0007.csv\n",
      " INFO analyzeflow.kymFlowRadon batchAnalyzeFolder() line:369 -- === tif file 3 of 9\n",
      " INFO analyzeflow.kymFlowFile analyzeFlowWithRadon() line:97 -- calling mpAnalyzeFlow() for 20221206_A3_0008.tif\n",
      " INFO analyzeflow.kymFlowRadon mpAnalyzeFlow() line:255 --   took 6 seconds\n",
      " INFO analyzeflow.kymFlowFile saveAnalysis() line:322 -- saving: ../../declan-flow-analysis-shared/data/20221206/20221206-analysis/20221206_A3_0008.csv\n",
      " INFO analyzeflow.kymFlowRadon batchAnalyzeFolder() line:369 -- === tif file 4 of 9\n",
      " INFO analyzeflow.kymFlowFile analyzeFlowWithRadon() line:97 -- calling mpAnalyzeFlow() for 20221206_A3_0009.tif\n",
      " INFO analyzeflow.kymFlowRadon mpAnalyzeFlow() line:255 --   took 6 seconds\n",
      " INFO analyzeflow.kymFlowFile saveAnalysis() line:322 -- saving: ../../declan-flow-analysis-shared/data/20221206/20221206-analysis/20221206_A3_0009.csv\n",
      " INFO analyzeflow.kymFlowRadon batchAnalyzeFolder() line:369 -- === tif file 5 of 9\n",
      " INFO analyzeflow.kymFlowFile analyzeFlowWithRadon() line:97 -- calling mpAnalyzeFlow() for 20221206_A3_0010.tif\n",
      " INFO analyzeflow.kymFlowRadon mpAnalyzeFlow() line:255 --   took 7 seconds\n",
      " INFO analyzeflow.kymFlowFile saveAnalysis() line:322 -- saving: ../../declan-flow-analysis-shared/data/20221206/20221206-analysis/20221206_A3_0010.csv\n",
      " INFO analyzeflow.kymFlowRadon batchAnalyzeFolder() line:369 -- === tif file 6 of 9\n",
      " INFO analyzeflow.kymFlowFile analyzeFlowWithRadon() line:97 -- calling mpAnalyzeFlow() for 20221206_A3_0011.tif\n",
      " INFO analyzeflow.kymFlowRadon mpAnalyzeFlow() line:255 --   took 6 seconds\n",
      " INFO analyzeflow.kymFlowFile saveAnalysis() line:322 -- saving: ../../declan-flow-analysis-shared/data/20221206/20221206-analysis/20221206_A3_0011.csv\n",
      " INFO analyzeflow.kymFlowRadon batchAnalyzeFolder() line:369 -- === tif file 7 of 9\n",
      " INFO analyzeflow.kymFlowFile analyzeFlowWithRadon() line:97 -- calling mpAnalyzeFlow() for 20221206_A3_0012.tif\n",
      " INFO analyzeflow.kymFlowRadon mpAnalyzeFlow() line:255 --   took 6 seconds\n",
      " INFO analyzeflow.kymFlowFile saveAnalysis() line:322 -- saving: ../../declan-flow-analysis-shared/data/20221206/20221206-analysis/20221206_A3_0012.csv\n",
      " INFO analyzeflow.kymFlowRadon batchAnalyzeFolder() line:369 -- === tif file 8 of 9\n",
      " INFO analyzeflow.kymFlowFile analyzeFlowWithRadon() line:97 -- calling mpAnalyzeFlow() for 20221206_A3_0013.tif\n",
      " INFO analyzeflow.kymFlowRadon mpAnalyzeFlow() line:255 --   took 6 seconds\n",
      " INFO analyzeflow.kymFlowFile saveAnalysis() line:322 -- saving: ../../declan-flow-analysis-shared/data/20221206/20221206-analysis/20221206_A3_0013.csv\n",
      " INFO analyzeflow.kymFlowRadon batchAnalyzeFolder() line:369 -- === tif file 9 of 9\n",
      " INFO analyzeflow.kymFlowFile analyzeFlowWithRadon() line:97 -- calling mpAnalyzeFlow() for 20221206_A3_0014.tif\n",
      " INFO analyzeflow.kymFlowRadon mpAnalyzeFlow() line:255 --   took 7 seconds\n",
      " INFO analyzeflow.kymFlowFile saveAnalysis() line:322 -- saving: ../../declan-flow-analysis-shared/data/20221206/20221206-analysis/20221206_A3_0014.csv\n",
      " INFO analyzeflow.kymFlowRadon batchAnalyzeFolder() line:375 -- Done processing 9 tif files in folder ../../declan-flow-analysis-shared/data/20221206.\n",
      " INFO analyzeflow.kymFlowRadon batchAnalyzeFolder() line:369 -- === tif file 1 of 9\n",
      " INFO analyzeflow.kymFlowFile analyzeFlowWithRadon() line:97 -- calling mpAnalyzeFlow() for 20221206_A3_0006.tif\n"
     ]
    },
    {
     "name": "stdout",
     "output_type": "stream",
     "text": [
      "=== running analysis on folder: ../../declan-flow-analysis-shared/data/20230105\n"
     ]
    },
    {
     "name": "stderr",
     "output_type": "stream",
     "text": [
      " INFO analyzeflow.kymFlowRadon mpAnalyzeFlow() line:255 --   took 7 seconds\n",
      " INFO analyzeflow.kymFlowFile saveAnalysis() line:322 -- saving: ../../declan-flow-analysis-shared/data/20221206/20221206-analysis/20221206_A3_0006.csv\n",
      " INFO analyzeflow.kymFlowRadon batchAnalyzeFolder() line:369 -- === tif file 2 of 9\n",
      " INFO analyzeflow.kymFlowFile analyzeFlowWithRadon() line:97 -- calling mpAnalyzeFlow() for 20221206_A3_0007.tif\n",
      " INFO analyzeflow.kymFlowRadon mpAnalyzeFlow() line:255 --   took 7 seconds\n",
      " INFO analyzeflow.kymFlowFile saveAnalysis() line:322 -- saving: ../../declan-flow-analysis-shared/data/20221206/20221206-analysis/20221206_A3_0007.csv\n",
      " INFO analyzeflow.kymFlowRadon batchAnalyzeFolder() line:369 -- === tif file 3 of 9\n",
      " INFO analyzeflow.kymFlowFile analyzeFlowWithRadon() line:97 -- calling mpAnalyzeFlow() for 20221206_A3_0008.tif\n",
      " INFO analyzeflow.kymFlowRadon mpAnalyzeFlow() line:255 --   took 6 seconds\n",
      " INFO analyzeflow.kymFlowFile saveAnalysis() line:322 -- saving: ../../declan-flow-analysis-shared/data/20221206/20221206-analysis/20221206_A3_0008.csv\n",
      " INFO analyzeflow.kymFlowRadon batchAnalyzeFolder() line:369 -- === tif file 4 of 9\n",
      " INFO analyzeflow.kymFlowFile analyzeFlowWithRadon() line:97 -- calling mpAnalyzeFlow() for 20221206_A3_0009.tif\n",
      " INFO analyzeflow.kymFlowRadon mpAnalyzeFlow() line:255 --   took 6 seconds\n",
      " INFO analyzeflow.kymFlowFile saveAnalysis() line:322 -- saving: ../../declan-flow-analysis-shared/data/20221206/20221206-analysis/20221206_A3_0009.csv\n",
      " INFO analyzeflow.kymFlowRadon batchAnalyzeFolder() line:369 -- === tif file 5 of 9\n",
      " INFO analyzeflow.kymFlowFile analyzeFlowWithRadon() line:97 -- calling mpAnalyzeFlow() for 20221206_A3_0010.tif\n",
      " INFO analyzeflow.kymFlowRadon mpAnalyzeFlow() line:255 --   took 6 seconds\n",
      " INFO analyzeflow.kymFlowFile saveAnalysis() line:322 -- saving: ../../declan-flow-analysis-shared/data/20221206/20221206-analysis/20221206_A3_0010.csv\n",
      " INFO analyzeflow.kymFlowRadon batchAnalyzeFolder() line:369 -- === tif file 6 of 9\n",
      " INFO analyzeflow.kymFlowFile analyzeFlowWithRadon() line:97 -- calling mpAnalyzeFlow() for 20221206_A3_0011.tif\n",
      " INFO analyzeflow.kymFlowRadon mpAnalyzeFlow() line:255 --   took 6 seconds\n",
      " INFO analyzeflow.kymFlowFile saveAnalysis() line:322 -- saving: ../../declan-flow-analysis-shared/data/20221206/20221206-analysis/20221206_A3_0011.csv\n",
      " INFO analyzeflow.kymFlowRadon batchAnalyzeFolder() line:369 -- === tif file 7 of 9\n",
      " INFO analyzeflow.kymFlowFile analyzeFlowWithRadon() line:97 -- calling mpAnalyzeFlow() for 20221206_A3_0012.tif\n",
      " INFO analyzeflow.kymFlowRadon mpAnalyzeFlow() line:255 --   took 6 seconds\n",
      " INFO analyzeflow.kymFlowFile saveAnalysis() line:322 -- saving: ../../declan-flow-analysis-shared/data/20221206/20221206-analysis/20221206_A3_0012.csv\n",
      " INFO analyzeflow.kymFlowRadon batchAnalyzeFolder() line:369 -- === tif file 8 of 9\n",
      " INFO analyzeflow.kymFlowFile analyzeFlowWithRadon() line:97 -- calling mpAnalyzeFlow() for 20221206_A3_0013.tif\n",
      " INFO analyzeflow.kymFlowRadon mpAnalyzeFlow() line:255 --   took 6 seconds\n",
      " INFO analyzeflow.kymFlowFile saveAnalysis() line:322 -- saving: ../../declan-flow-analysis-shared/data/20221206/20221206-analysis/20221206_A3_0013.csv\n",
      " INFO analyzeflow.kymFlowRadon batchAnalyzeFolder() line:369 -- === tif file 9 of 9\n",
      " INFO analyzeflow.kymFlowFile analyzeFlowWithRadon() line:97 -- calling mpAnalyzeFlow() for 20221206_A3_0014.tif\n",
      " INFO analyzeflow.kymFlowRadon mpAnalyzeFlow() line:255 --   took 7 seconds\n",
      " INFO analyzeflow.kymFlowFile saveAnalysis() line:322 -- saving: ../../declan-flow-analysis-shared/data/20221206/20221206-analysis/20221206_A3_0014.csv\n",
      " INFO analyzeflow.kymFlowRadon batchAnalyzeFolder() line:375 -- Done processing 9 tif files in folder ../../declan-flow-analysis-shared/data/20221206.\n",
      " INFO analyzeflow.kymFlowRadon batchAnalyzeFolder() line:369 -- === tif file 1 of 9\n",
      " INFO analyzeflow.kymFlowFile analyzeFlowWithRadon() line:97 -- calling mpAnalyzeFlow() for 20221206_A3_0006.tif\n"
     ]
    },
    {
     "name": "stdout",
     "output_type": "stream",
     "text": [
      "=== running analysis on folder: ../../declan-flow-analysis-shared/data/20230110\n"
     ]
    },
    {
     "name": "stderr",
     "output_type": "stream",
     "text": [
      " INFO analyzeflow.kymFlowRadon mpAnalyzeFlow() line:255 --   took 7 seconds\n",
      " INFO analyzeflow.kymFlowFile saveAnalysis() line:322 -- saving: ../../declan-flow-analysis-shared/data/20221206/20221206-analysis/20221206_A3_0006.csv\n",
      " INFO analyzeflow.kymFlowRadon batchAnalyzeFolder() line:369 -- === tif file 2 of 9\n",
      " INFO analyzeflow.kymFlowFile analyzeFlowWithRadon() line:97 -- calling mpAnalyzeFlow() for 20221206_A3_0007.tif\n",
      " INFO analyzeflow.kymFlowRadon mpAnalyzeFlow() line:255 --   took 7 seconds\n",
      " INFO analyzeflow.kymFlowFile saveAnalysis() line:322 -- saving: ../../declan-flow-analysis-shared/data/20221206/20221206-analysis/20221206_A3_0007.csv\n",
      " INFO analyzeflow.kymFlowRadon batchAnalyzeFolder() line:369 -- === tif file 3 of 9\n",
      " INFO analyzeflow.kymFlowFile analyzeFlowWithRadon() line:97 -- calling mpAnalyzeFlow() for 20221206_A3_0008.tif\n",
      " INFO analyzeflow.kymFlowRadon mpAnalyzeFlow() line:255 --   took 6 seconds\n",
      " INFO analyzeflow.kymFlowFile saveAnalysis() line:322 -- saving: ../../declan-flow-analysis-shared/data/20221206/20221206-analysis/20221206_A3_0008.csv\n",
      " INFO analyzeflow.kymFlowRadon batchAnalyzeFolder() line:369 -- === tif file 4 of 9\n",
      " INFO analyzeflow.kymFlowFile analyzeFlowWithRadon() line:97 -- calling mpAnalyzeFlow() for 20221206_A3_0009.tif\n",
      " INFO analyzeflow.kymFlowRadon mpAnalyzeFlow() line:255 --   took 6 seconds\n",
      " INFO analyzeflow.kymFlowFile saveAnalysis() line:322 -- saving: ../../declan-flow-analysis-shared/data/20221206/20221206-analysis/20221206_A3_0009.csv\n",
      " INFO analyzeflow.kymFlowRadon batchAnalyzeFolder() line:369 -- === tif file 5 of 9\n",
      " INFO analyzeflow.kymFlowFile analyzeFlowWithRadon() line:97 -- calling mpAnalyzeFlow() for 20221206_A3_0010.tif\n",
      " INFO analyzeflow.kymFlowRadon mpAnalyzeFlow() line:255 --   took 7 seconds\n",
      " INFO analyzeflow.kymFlowFile saveAnalysis() line:322 -- saving: ../../declan-flow-analysis-shared/data/20221206/20221206-analysis/20221206_A3_0010.csv\n",
      " INFO analyzeflow.kymFlowRadon batchAnalyzeFolder() line:369 -- === tif file 6 of 9\n",
      " INFO analyzeflow.kymFlowFile analyzeFlowWithRadon() line:97 -- calling mpAnalyzeFlow() for 20221206_A3_0011.tif\n",
      " INFO analyzeflow.kymFlowRadon mpAnalyzeFlow() line:255 --   took 6 seconds\n",
      " INFO analyzeflow.kymFlowFile saveAnalysis() line:322 -- saving: ../../declan-flow-analysis-shared/data/20221206/20221206-analysis/20221206_A3_0011.csv\n",
      " INFO analyzeflow.kymFlowRadon batchAnalyzeFolder() line:369 -- === tif file 7 of 9\n",
      " INFO analyzeflow.kymFlowFile analyzeFlowWithRadon() line:97 -- calling mpAnalyzeFlow() for 20221206_A3_0012.tif\n",
      " INFO analyzeflow.kymFlowRadon mpAnalyzeFlow() line:255 --   took 6 seconds\n",
      " INFO analyzeflow.kymFlowFile saveAnalysis() line:322 -- saving: ../../declan-flow-analysis-shared/data/20221206/20221206-analysis/20221206_A3_0012.csv\n",
      " INFO analyzeflow.kymFlowRadon batchAnalyzeFolder() line:369 -- === tif file 8 of 9\n",
      " INFO analyzeflow.kymFlowFile analyzeFlowWithRadon() line:97 -- calling mpAnalyzeFlow() for 20221206_A3_0013.tif\n",
      " INFO analyzeflow.kymFlowRadon mpAnalyzeFlow() line:255 --   took 6 seconds\n",
      " INFO analyzeflow.kymFlowFile saveAnalysis() line:322 -- saving: ../../declan-flow-analysis-shared/data/20221206/20221206-analysis/20221206_A3_0013.csv\n",
      " INFO analyzeflow.kymFlowRadon batchAnalyzeFolder() line:369 -- === tif file 9 of 9\n",
      " INFO analyzeflow.kymFlowFile analyzeFlowWithRadon() line:97 -- calling mpAnalyzeFlow() for 20221206_A3_0014.tif\n",
      " INFO analyzeflow.kymFlowRadon mpAnalyzeFlow() line:255 --   took 7 seconds\n",
      " INFO analyzeflow.kymFlowFile saveAnalysis() line:322 -- saving: ../../declan-flow-analysis-shared/data/20221206/20221206-analysis/20221206_A3_0014.csv\n",
      " INFO analyzeflow.kymFlowRadon batchAnalyzeFolder() line:375 -- Done processing 9 tif files in folder ../../declan-flow-analysis-shared/data/20221206.\n",
      " INFO analyzeflow.kymFlowRadon batchAnalyzeFolder() line:369 -- === tif file 1 of 9\n",
      " INFO analyzeflow.kymFlowFile analyzeFlowWithRadon() line:97 -- calling mpAnalyzeFlow() for 20221206_A3_0006.tif\n"
     ]
    },
    {
     "name": "stdout",
     "output_type": "stream",
     "text": [
      "=== running analysis on folder: ../../declan-flow-analysis-shared/data/20230112\n"
     ]
    },
    {
     "name": "stderr",
     "output_type": "stream",
     "text": [
      " INFO analyzeflow.kymFlowRadon mpAnalyzeFlow() line:255 --   took 7 seconds\n",
      " INFO analyzeflow.kymFlowFile saveAnalysis() line:322 -- saving: ../../declan-flow-analysis-shared/data/20221206/20221206-analysis/20221206_A3_0006.csv\n",
      " INFO analyzeflow.kymFlowRadon batchAnalyzeFolder() line:369 -- === tif file 2 of 9\n",
      " INFO analyzeflow.kymFlowFile analyzeFlowWithRadon() line:97 -- calling mpAnalyzeFlow() for 20221206_A3_0007.tif\n",
      " INFO analyzeflow.kymFlowRadon mpAnalyzeFlow() line:255 --   took 7 seconds\n",
      " INFO analyzeflow.kymFlowFile saveAnalysis() line:322 -- saving: ../../declan-flow-analysis-shared/data/20221206/20221206-analysis/20221206_A3_0007.csv\n",
      " INFO analyzeflow.kymFlowRadon batchAnalyzeFolder() line:369 -- === tif file 3 of 9\n",
      " INFO analyzeflow.kymFlowFile analyzeFlowWithRadon() line:97 -- calling mpAnalyzeFlow() for 20221206_A3_0008.tif\n",
      " INFO analyzeflow.kymFlowRadon mpAnalyzeFlow() line:255 --   took 6 seconds\n",
      " INFO analyzeflow.kymFlowFile saveAnalysis() line:322 -- saving: ../../declan-flow-analysis-shared/data/20221206/20221206-analysis/20221206_A3_0008.csv\n",
      " INFO analyzeflow.kymFlowRadon batchAnalyzeFolder() line:369 -- === tif file 4 of 9\n",
      " INFO analyzeflow.kymFlowFile analyzeFlowWithRadon() line:97 -- calling mpAnalyzeFlow() for 20221206_A3_0009.tif\n",
      " INFO analyzeflow.kymFlowRadon mpAnalyzeFlow() line:255 --   took 6 seconds\n",
      " INFO analyzeflow.kymFlowFile saveAnalysis() line:322 -- saving: ../../declan-flow-analysis-shared/data/20221206/20221206-analysis/20221206_A3_0009.csv\n",
      " INFO analyzeflow.kymFlowRadon batchAnalyzeFolder() line:369 -- === tif file 5 of 9\n",
      " INFO analyzeflow.kymFlowFile analyzeFlowWithRadon() line:97 -- calling mpAnalyzeFlow() for 20221206_A3_0010.tif\n",
      " INFO analyzeflow.kymFlowRadon mpAnalyzeFlow() line:255 --   took 7 seconds\n",
      " INFO analyzeflow.kymFlowFile saveAnalysis() line:322 -- saving: ../../declan-flow-analysis-shared/data/20221206/20221206-analysis/20221206_A3_0010.csv\n",
      " INFO analyzeflow.kymFlowRadon batchAnalyzeFolder() line:369 -- === tif file 6 of 9\n",
      " INFO analyzeflow.kymFlowFile analyzeFlowWithRadon() line:97 -- calling mpAnalyzeFlow() for 20221206_A3_0011.tif\n",
      " INFO analyzeflow.kymFlowRadon mpAnalyzeFlow() line:255 --   took 6 seconds\n",
      " INFO analyzeflow.kymFlowFile saveAnalysis() line:322 -- saving: ../../declan-flow-analysis-shared/data/20221206/20221206-analysis/20221206_A3_0011.csv\n",
      " INFO analyzeflow.kymFlowRadon batchAnalyzeFolder() line:369 -- === tif file 7 of 9\n",
      " INFO analyzeflow.kymFlowFile analyzeFlowWithRadon() line:97 -- calling mpAnalyzeFlow() for 20221206_A3_0012.tif\n",
      " INFO analyzeflow.kymFlowRadon mpAnalyzeFlow() line:255 --   took 6 seconds\n",
      " INFO analyzeflow.kymFlowFile saveAnalysis() line:322 -- saving: ../../declan-flow-analysis-shared/data/20221206/20221206-analysis/20221206_A3_0012.csv\n",
      " INFO analyzeflow.kymFlowRadon batchAnalyzeFolder() line:369 -- === tif file 8 of 9\n",
      " INFO analyzeflow.kymFlowFile analyzeFlowWithRadon() line:97 -- calling mpAnalyzeFlow() for 20221206_A3_0013.tif\n",
      " INFO analyzeflow.kymFlowRadon mpAnalyzeFlow() line:255 --   took 6 seconds\n",
      " INFO analyzeflow.kymFlowFile saveAnalysis() line:322 -- saving: ../../declan-flow-analysis-shared/data/20221206/20221206-analysis/20221206_A3_0013.csv\n",
      " INFO analyzeflow.kymFlowRadon batchAnalyzeFolder() line:369 -- === tif file 9 of 9\n",
      " INFO analyzeflow.kymFlowFile analyzeFlowWithRadon() line:97 -- calling mpAnalyzeFlow() for 20221206_A3_0014.tif\n",
      " INFO analyzeflow.kymFlowRadon mpAnalyzeFlow() line:255 --   took 7 seconds\n",
      " INFO analyzeflow.kymFlowFile saveAnalysis() line:322 -- saving: ../../declan-flow-analysis-shared/data/20221206/20221206-analysis/20221206_A3_0014.csv\n",
      " INFO analyzeflow.kymFlowRadon batchAnalyzeFolder() line:375 -- Done processing 9 tif files in folder ../../declan-flow-analysis-shared/data/20221206.\n",
      " INFO analyzeflow.kymFlowRadon batchAnalyzeFolder() line:369 -- === tif file 1 of 9\n",
      " INFO analyzeflow.kymFlowFile analyzeFlowWithRadon() line:97 -- calling mpAnalyzeFlow() for 20221206_A3_0006.tif\n"
     ]
    },
    {
     "name": "stdout",
     "output_type": "stream",
     "text": [
      "=== running analysis on folder: ../../declan-flow-analysis-shared/data/20230117\n"
     ]
    },
    {
     "name": "stderr",
     "output_type": "stream",
     "text": [
      " INFO analyzeflow.kymFlowRadon mpAnalyzeFlow() line:255 --   took 7 seconds\n",
      " INFO analyzeflow.kymFlowFile saveAnalysis() line:322 -- saving: ../../declan-flow-analysis-shared/data/20221206/20221206-analysis/20221206_A3_0006.csv\n",
      " INFO analyzeflow.kymFlowRadon batchAnalyzeFolder() line:369 -- === tif file 2 of 9\n",
      " INFO analyzeflow.kymFlowFile analyzeFlowWithRadon() line:97 -- calling mpAnalyzeFlow() for 20221206_A3_0007.tif\n",
      " INFO analyzeflow.kymFlowRadon mpAnalyzeFlow() line:255 --   took 7 seconds\n",
      " INFO analyzeflow.kymFlowFile saveAnalysis() line:322 -- saving: ../../declan-flow-analysis-shared/data/20221206/20221206-analysis/20221206_A3_0007.csv\n",
      " INFO analyzeflow.kymFlowRadon batchAnalyzeFolder() line:369 -- === tif file 3 of 9\n",
      " INFO analyzeflow.kymFlowFile analyzeFlowWithRadon() line:97 -- calling mpAnalyzeFlow() for 20221206_A3_0008.tif\n",
      " INFO analyzeflow.kymFlowRadon mpAnalyzeFlow() line:255 --   took 6 seconds\n",
      " INFO analyzeflow.kymFlowFile saveAnalysis() line:322 -- saving: ../../declan-flow-analysis-shared/data/20221206/20221206-analysis/20221206_A3_0008.csv\n",
      " INFO analyzeflow.kymFlowRadon batchAnalyzeFolder() line:369 -- === tif file 4 of 9\n",
      " INFO analyzeflow.kymFlowFile analyzeFlowWithRadon() line:97 -- calling mpAnalyzeFlow() for 20221206_A3_0009.tif\n",
      " INFO analyzeflow.kymFlowRadon mpAnalyzeFlow() line:255 --   took 6 seconds\n",
      " INFO analyzeflow.kymFlowFile saveAnalysis() line:322 -- saving: ../../declan-flow-analysis-shared/data/20221206/20221206-analysis/20221206_A3_0009.csv\n",
      " INFO analyzeflow.kymFlowRadon batchAnalyzeFolder() line:369 -- === tif file 5 of 9\n",
      " INFO analyzeflow.kymFlowFile analyzeFlowWithRadon() line:97 -- calling mpAnalyzeFlow() for 20221206_A3_0010.tif\n",
      " INFO analyzeflow.kymFlowRadon mpAnalyzeFlow() line:255 --   took 7 seconds\n",
      " INFO analyzeflow.kymFlowFile saveAnalysis() line:322 -- saving: ../../declan-flow-analysis-shared/data/20221206/20221206-analysis/20221206_A3_0010.csv\n",
      " INFO analyzeflow.kymFlowRadon batchAnalyzeFolder() line:369 -- === tif file 6 of 9\n",
      " INFO analyzeflow.kymFlowFile analyzeFlowWithRadon() line:97 -- calling mpAnalyzeFlow() for 20221206_A3_0011.tif\n",
      " INFO analyzeflow.kymFlowRadon mpAnalyzeFlow() line:255 --   took 6 seconds\n",
      " INFO analyzeflow.kymFlowFile saveAnalysis() line:322 -- saving: ../../declan-flow-analysis-shared/data/20221206/20221206-analysis/20221206_A3_0011.csv\n",
      " INFO analyzeflow.kymFlowRadon batchAnalyzeFolder() line:369 -- === tif file 7 of 9\n",
      " INFO analyzeflow.kymFlowFile analyzeFlowWithRadon() line:97 -- calling mpAnalyzeFlow() for 20221206_A3_0012.tif\n",
      " INFO analyzeflow.kymFlowRadon mpAnalyzeFlow() line:255 --   took 6 seconds\n",
      " INFO analyzeflow.kymFlowFile saveAnalysis() line:322 -- saving: ../../declan-flow-analysis-shared/data/20221206/20221206-analysis/20221206_A3_0012.csv\n",
      " INFO analyzeflow.kymFlowRadon batchAnalyzeFolder() line:369 -- === tif file 8 of 9\n",
      " INFO analyzeflow.kymFlowFile analyzeFlowWithRadon() line:97 -- calling mpAnalyzeFlow() for 20221206_A3_0013.tif\n",
      " INFO analyzeflow.kymFlowRadon mpAnalyzeFlow() line:255 --   took 6 seconds\n",
      " INFO analyzeflow.kymFlowFile saveAnalysis() line:322 -- saving: ../../declan-flow-analysis-shared/data/20221206/20221206-analysis/20221206_A3_0013.csv\n",
      " INFO analyzeflow.kymFlowRadon batchAnalyzeFolder() line:369 -- === tif file 9 of 9\n",
      " INFO analyzeflow.kymFlowFile analyzeFlowWithRadon() line:97 -- calling mpAnalyzeFlow() for 20221206_A3_0014.tif\n",
      " INFO analyzeflow.kymFlowRadon mpAnalyzeFlow() line:255 --   took 7 seconds\n",
      " INFO analyzeflow.kymFlowFile saveAnalysis() line:322 -- saving: ../../declan-flow-analysis-shared/data/20221206/20221206-analysis/20221206_A3_0014.csv\n",
      " INFO analyzeflow.kymFlowRadon batchAnalyzeFolder() line:375 -- Done processing 9 tif files in folder ../../declan-flow-analysis-shared/data/20221206.\n",
      " INFO analyzeflow.kymFlowRadon batchAnalyzeFolder() line:369 -- === tif file 1 of 9\n",
      " INFO analyzeflow.kymFlowFile analyzeFlowWithRadon() line:97 -- calling mpAnalyzeFlow() for 20221206_A3_0006.tif\n"
     ]
    },
    {
     "name": "stdout",
     "output_type": "stream",
     "text": [
      "=== running analysis on folder: ../../declan-flow-analysis-shared/data/20230119\n"
     ]
    },
    {
     "name": "stderr",
     "output_type": "stream",
     "text": [
      " INFO analyzeflow.kymFlowRadon mpAnalyzeFlow() line:255 --   took 7 seconds\n",
      " INFO analyzeflow.kymFlowFile saveAnalysis() line:322 -- saving: ../../declan-flow-analysis-shared/data/20221206/20221206-analysis/20221206_A3_0006.csv\n",
      " INFO analyzeflow.kymFlowRadon batchAnalyzeFolder() line:369 -- === tif file 2 of 9\n",
      " INFO analyzeflow.kymFlowFile analyzeFlowWithRadon() line:97 -- calling mpAnalyzeFlow() for 20221206_A3_0007.tif\n",
      " INFO analyzeflow.kymFlowRadon mpAnalyzeFlow() line:255 --   took 7 seconds\n",
      " INFO analyzeflow.kymFlowFile saveAnalysis() line:322 -- saving: ../../declan-flow-analysis-shared/data/20221206/20221206-analysis/20221206_A3_0007.csv\n",
      " INFO analyzeflow.kymFlowRadon batchAnalyzeFolder() line:369 -- === tif file 3 of 9\n",
      " INFO analyzeflow.kymFlowFile analyzeFlowWithRadon() line:97 -- calling mpAnalyzeFlow() for 20221206_A3_0008.tif\n",
      " INFO analyzeflow.kymFlowRadon mpAnalyzeFlow() line:255 --   took 6 seconds\n",
      " INFO analyzeflow.kymFlowFile saveAnalysis() line:322 -- saving: ../../declan-flow-analysis-shared/data/20221206/20221206-analysis/20221206_A3_0008.csv\n",
      " INFO analyzeflow.kymFlowRadon batchAnalyzeFolder() line:369 -- === tif file 4 of 9\n",
      " INFO analyzeflow.kymFlowFile analyzeFlowWithRadon() line:97 -- calling mpAnalyzeFlow() for 20221206_A3_0009.tif\n",
      " INFO analyzeflow.kymFlowRadon mpAnalyzeFlow() line:255 --   took 6 seconds\n",
      " INFO analyzeflow.kymFlowFile saveAnalysis() line:322 -- saving: ../../declan-flow-analysis-shared/data/20221206/20221206-analysis/20221206_A3_0009.csv\n",
      " INFO analyzeflow.kymFlowRadon batchAnalyzeFolder() line:369 -- === tif file 5 of 9\n",
      " INFO analyzeflow.kymFlowFile analyzeFlowWithRadon() line:97 -- calling mpAnalyzeFlow() for 20221206_A3_0010.tif\n",
      " INFO analyzeflow.kymFlowRadon mpAnalyzeFlow() line:255 --   took 6 seconds\n",
      " INFO analyzeflow.kymFlowFile saveAnalysis() line:322 -- saving: ../../declan-flow-analysis-shared/data/20221206/20221206-analysis/20221206_A3_0010.csv\n",
      " INFO analyzeflow.kymFlowRadon batchAnalyzeFolder() line:369 -- === tif file 6 of 9\n",
      " INFO analyzeflow.kymFlowFile analyzeFlowWithRadon() line:97 -- calling mpAnalyzeFlow() for 20221206_A3_0011.tif\n",
      " INFO analyzeflow.kymFlowRadon mpAnalyzeFlow() line:255 --   took 6 seconds\n",
      " INFO analyzeflow.kymFlowFile saveAnalysis() line:322 -- saving: ../../declan-flow-analysis-shared/data/20221206/20221206-analysis/20221206_A3_0011.csv\n",
      " INFO analyzeflow.kymFlowRadon batchAnalyzeFolder() line:369 -- === tif file 7 of 9\n",
      " INFO analyzeflow.kymFlowFile analyzeFlowWithRadon() line:97 -- calling mpAnalyzeFlow() for 20221206_A3_0012.tif\n",
      " INFO analyzeflow.kymFlowRadon mpAnalyzeFlow() line:255 --   took 6 seconds\n",
      " INFO analyzeflow.kymFlowFile saveAnalysis() line:322 -- saving: ../../declan-flow-analysis-shared/data/20221206/20221206-analysis/20221206_A3_0012.csv\n",
      " INFO analyzeflow.kymFlowRadon batchAnalyzeFolder() line:369 -- === tif file 8 of 9\n",
      " INFO analyzeflow.kymFlowFile analyzeFlowWithRadon() line:97 -- calling mpAnalyzeFlow() for 20221206_A3_0013.tif\n",
      " INFO analyzeflow.kymFlowRadon mpAnalyzeFlow() line:255 --   took 6 seconds\n",
      " INFO analyzeflow.kymFlowFile saveAnalysis() line:322 -- saving: ../../declan-flow-analysis-shared/data/20221206/20221206-analysis/20221206_A3_0013.csv\n",
      " INFO analyzeflow.kymFlowRadon batchAnalyzeFolder() line:369 -- === tif file 9 of 9\n",
      " INFO analyzeflow.kymFlowFile analyzeFlowWithRadon() line:97 -- calling mpAnalyzeFlow() for 20221206_A3_0014.tif\n",
      " INFO analyzeflow.kymFlowRadon mpAnalyzeFlow() line:255 --   took 7 seconds\n",
      " INFO analyzeflow.kymFlowFile saveAnalysis() line:322 -- saving: ../../declan-flow-analysis-shared/data/20221206/20221206-analysis/20221206_A3_0014.csv\n",
      " INFO analyzeflow.kymFlowRadon batchAnalyzeFolder() line:375 -- Done processing 9 tif files in folder ../../declan-flow-analysis-shared/data/20221206.\n",
      " INFO analyzeflow.kymFlowRadon batchAnalyzeFolder() line:369 -- === tif file 1 of 9\n",
      " INFO analyzeflow.kymFlowFile analyzeFlowWithRadon() line:97 -- calling mpAnalyzeFlow() for 20221206_A3_0006.tif\n"
     ]
    },
    {
     "name": "stdout",
     "output_type": "stream",
     "text": [
      "=== running analysis on folder: ../../declan-flow-analysis-shared/data/20230124\n"
     ]
    },
    {
     "name": "stderr",
     "output_type": "stream",
     "text": [
      " INFO analyzeflow.kymFlowRadon mpAnalyzeFlow() line:255 --   took 7 seconds\n",
      " INFO analyzeflow.kymFlowFile saveAnalysis() line:322 -- saving: ../../declan-flow-analysis-shared/data/20221206/20221206-analysis/20221206_A3_0006.csv\n",
      " INFO analyzeflow.kymFlowRadon batchAnalyzeFolder() line:369 -- === tif file 2 of 9\n",
      " INFO analyzeflow.kymFlowFile analyzeFlowWithRadon() line:97 -- calling mpAnalyzeFlow() for 20221206_A3_0007.tif\n",
      " INFO analyzeflow.kymFlowRadon mpAnalyzeFlow() line:255 --   took 7 seconds\n",
      " INFO analyzeflow.kymFlowFile saveAnalysis() line:322 -- saving: ../../declan-flow-analysis-shared/data/20221206/20221206-analysis/20221206_A3_0007.csv\n",
      " INFO analyzeflow.kymFlowRadon batchAnalyzeFolder() line:369 -- === tif file 3 of 9\n",
      " INFO analyzeflow.kymFlowFile analyzeFlowWithRadon() line:97 -- calling mpAnalyzeFlow() for 20221206_A3_0008.tif\n",
      " INFO analyzeflow.kymFlowRadon mpAnalyzeFlow() line:255 --   took 6 seconds\n",
      " INFO analyzeflow.kymFlowFile saveAnalysis() line:322 -- saving: ../../declan-flow-analysis-shared/data/20221206/20221206-analysis/20221206_A3_0008.csv\n",
      " INFO analyzeflow.kymFlowRadon batchAnalyzeFolder() line:369 -- === tif file 4 of 9\n",
      " INFO analyzeflow.kymFlowFile analyzeFlowWithRadon() line:97 -- calling mpAnalyzeFlow() for 20221206_A3_0009.tif\n",
      " INFO analyzeflow.kymFlowRadon mpAnalyzeFlow() line:255 --   took 6 seconds\n",
      " INFO analyzeflow.kymFlowFile saveAnalysis() line:322 -- saving: ../../declan-flow-analysis-shared/data/20221206/20221206-analysis/20221206_A3_0009.csv\n",
      " INFO analyzeflow.kymFlowRadon batchAnalyzeFolder() line:369 -- === tif file 5 of 9\n",
      " INFO analyzeflow.kymFlowFile analyzeFlowWithRadon() line:97 -- calling mpAnalyzeFlow() for 20221206_A3_0010.tif\n",
      " INFO analyzeflow.kymFlowRadon mpAnalyzeFlow() line:255 --   took 7 seconds\n",
      " INFO analyzeflow.kymFlowFile saveAnalysis() line:322 -- saving: ../../declan-flow-analysis-shared/data/20221206/20221206-analysis/20221206_A3_0010.csv\n",
      " INFO analyzeflow.kymFlowRadon batchAnalyzeFolder() line:369 -- === tif file 6 of 9\n",
      " INFO analyzeflow.kymFlowFile analyzeFlowWithRadon() line:97 -- calling mpAnalyzeFlow() for 20221206_A3_0011.tif\n",
      " INFO analyzeflow.kymFlowRadon mpAnalyzeFlow() line:255 --   took 6 seconds\n",
      " INFO analyzeflow.kymFlowFile saveAnalysis() line:322 -- saving: ../../declan-flow-analysis-shared/data/20221206/20221206-analysis/20221206_A3_0011.csv\n",
      " INFO analyzeflow.kymFlowRadon batchAnalyzeFolder() line:369 -- === tif file 7 of 9\n",
      " INFO analyzeflow.kymFlowFile analyzeFlowWithRadon() line:97 -- calling mpAnalyzeFlow() for 20221206_A3_0012.tif\n",
      " INFO analyzeflow.kymFlowRadon mpAnalyzeFlow() line:255 --   took 6 seconds\n",
      " INFO analyzeflow.kymFlowFile saveAnalysis() line:322 -- saving: ../../declan-flow-analysis-shared/data/20221206/20221206-analysis/20221206_A3_0012.csv\n",
      " INFO analyzeflow.kymFlowRadon batchAnalyzeFolder() line:369 -- === tif file 8 of 9\n",
      " INFO analyzeflow.kymFlowFile analyzeFlowWithRadon() line:97 -- calling mpAnalyzeFlow() for 20221206_A3_0013.tif\n",
      " INFO analyzeflow.kymFlowRadon mpAnalyzeFlow() line:255 --   took 6 seconds\n",
      " INFO analyzeflow.kymFlowFile saveAnalysis() line:322 -- saving: ../../declan-flow-analysis-shared/data/20221206/20221206-analysis/20221206_A3_0013.csv\n",
      " INFO analyzeflow.kymFlowRadon batchAnalyzeFolder() line:369 -- === tif file 9 of 9\n",
      " INFO analyzeflow.kymFlowFile analyzeFlowWithRadon() line:97 -- calling mpAnalyzeFlow() for 20221206_A3_0014.tif\n",
      " INFO analyzeflow.kymFlowRadon mpAnalyzeFlow() line:255 --   took 7 seconds\n",
      " INFO analyzeflow.kymFlowFile saveAnalysis() line:322 -- saving: ../../declan-flow-analysis-shared/data/20221206/20221206-analysis/20221206_A3_0014.csv\n",
      " INFO analyzeflow.kymFlowRadon batchAnalyzeFolder() line:375 -- Done processing 9 tif files in folder ../../declan-flow-analysis-shared/data/20221206.\n",
      " INFO analyzeflow.kymFlowRadon batchAnalyzeFolder() line:369 -- === tif file 1 of 9\n",
      " INFO analyzeflow.kymFlowFile analyzeFlowWithRadon() line:97 -- calling mpAnalyzeFlow() for 20221206_A3_0006.tif\n"
     ]
    },
    {
     "name": "stdout",
     "output_type": "stream",
     "text": [
      "=== running analysis on folder: ../../declan-flow-analysis-shared/data/20230125\n"
     ]
    },
    {
     "name": "stderr",
     "output_type": "stream",
     "text": [
      " INFO analyzeflow.kymFlowRadon mpAnalyzeFlow() line:255 --   took 7 seconds\n",
      " INFO analyzeflow.kymFlowFile saveAnalysis() line:322 -- saving: ../../declan-flow-analysis-shared/data/20221206/20221206-analysis/20221206_A3_0006.csv\n",
      " INFO analyzeflow.kymFlowRadon batchAnalyzeFolder() line:369 -- === tif file 2 of 9\n",
      " INFO analyzeflow.kymFlowFile analyzeFlowWithRadon() line:97 -- calling mpAnalyzeFlow() for 20221206_A3_0007.tif\n",
      " INFO analyzeflow.kymFlowRadon mpAnalyzeFlow() line:255 --   took 7 seconds\n",
      " INFO analyzeflow.kymFlowFile saveAnalysis() line:322 -- saving: ../../declan-flow-analysis-shared/data/20221206/20221206-analysis/20221206_A3_0007.csv\n",
      " INFO analyzeflow.kymFlowRadon batchAnalyzeFolder() line:369 -- === tif file 3 of 9\n",
      " INFO analyzeflow.kymFlowFile analyzeFlowWithRadon() line:97 -- calling mpAnalyzeFlow() for 20221206_A3_0008.tif\n",
      " INFO analyzeflow.kymFlowRadon mpAnalyzeFlow() line:255 --   took 6 seconds\n",
      " INFO analyzeflow.kymFlowFile saveAnalysis() line:322 -- saving: ../../declan-flow-analysis-shared/data/20221206/20221206-analysis/20221206_A3_0008.csv\n",
      " INFO analyzeflow.kymFlowRadon batchAnalyzeFolder() line:369 -- === tif file 4 of 9\n",
      " INFO analyzeflow.kymFlowFile analyzeFlowWithRadon() line:97 -- calling mpAnalyzeFlow() for 20221206_A3_0009.tif\n",
      " INFO analyzeflow.kymFlowRadon mpAnalyzeFlow() line:255 --   took 6 seconds\n",
      " INFO analyzeflow.kymFlowFile saveAnalysis() line:322 -- saving: ../../declan-flow-analysis-shared/data/20221206/20221206-analysis/20221206_A3_0009.csv\n",
      " INFO analyzeflow.kymFlowRadon batchAnalyzeFolder() line:369 -- === tif file 5 of 9\n",
      " INFO analyzeflow.kymFlowFile analyzeFlowWithRadon() line:97 -- calling mpAnalyzeFlow() for 20221206_A3_0010.tif\n",
      " INFO analyzeflow.kymFlowRadon mpAnalyzeFlow() line:255 --   took 7 seconds\n",
      " INFO analyzeflow.kymFlowFile saveAnalysis() line:322 -- saving: ../../declan-flow-analysis-shared/data/20221206/20221206-analysis/20221206_A3_0010.csv\n",
      " INFO analyzeflow.kymFlowRadon batchAnalyzeFolder() line:369 -- === tif file 6 of 9\n",
      " INFO analyzeflow.kymFlowFile analyzeFlowWithRadon() line:97 -- calling mpAnalyzeFlow() for 20221206_A3_0011.tif\n",
      " INFO analyzeflow.kymFlowRadon mpAnalyzeFlow() line:255 --   took 6 seconds\n",
      " INFO analyzeflow.kymFlowFile saveAnalysis() line:322 -- saving: ../../declan-flow-analysis-shared/data/20221206/20221206-analysis/20221206_A3_0011.csv\n",
      " INFO analyzeflow.kymFlowRadon batchAnalyzeFolder() line:369 -- === tif file 7 of 9\n",
      " INFO analyzeflow.kymFlowFile analyzeFlowWithRadon() line:97 -- calling mpAnalyzeFlow() for 20221206_A3_0012.tif\n",
      " INFO analyzeflow.kymFlowRadon mpAnalyzeFlow() line:255 --   took 6 seconds\n",
      " INFO analyzeflow.kymFlowFile saveAnalysis() line:322 -- saving: ../../declan-flow-analysis-shared/data/20221206/20221206-analysis/20221206_A3_0012.csv\n",
      " INFO analyzeflow.kymFlowRadon batchAnalyzeFolder() line:369 -- === tif file 8 of 9\n",
      " INFO analyzeflow.kymFlowFile analyzeFlowWithRadon() line:97 -- calling mpAnalyzeFlow() for 20221206_A3_0013.tif\n",
      " INFO analyzeflow.kymFlowRadon mpAnalyzeFlow() line:255 --   took 6 seconds\n",
      " INFO analyzeflow.kymFlowFile saveAnalysis() line:322 -- saving: ../../declan-flow-analysis-shared/data/20221206/20221206-analysis/20221206_A3_0013.csv\n",
      " INFO analyzeflow.kymFlowRadon batchAnalyzeFolder() line:369 -- === tif file 9 of 9\n",
      " INFO analyzeflow.kymFlowFile analyzeFlowWithRadon() line:97 -- calling mpAnalyzeFlow() for 20221206_A3_0014.tif\n",
      " INFO analyzeflow.kymFlowRadon mpAnalyzeFlow() line:255 --   took 7 seconds\n",
      " INFO analyzeflow.kymFlowFile saveAnalysis() line:322 -- saving: ../../declan-flow-analysis-shared/data/20221206/20221206-analysis/20221206_A3_0014.csv\n",
      " INFO analyzeflow.kymFlowRadon batchAnalyzeFolder() line:375 -- Done processing 9 tif files in folder ../../declan-flow-analysis-shared/data/20221206.\n"
     ]
    }
   ],
   "source": [
    "dataPath = '../../declan-flow-analysis-shared/data'\n",
    "\n",
    "# dateFolders = [os.path.join(dataPath, x[0])\n",
    "#                    for x in os.walk(dataPath)]\n",
    "\n",
    "dateFolders = []\n",
    "for item in os.listdir(dataPath):\n",
    "    oneItemPath = os.path.join(dataPath, item)\n",
    "    if os.path.isdir(oneItemPath):\n",
    "        dateFolders.append(oneItemPath)\n",
    "\n",
    "dateFolders = sorted(dateFolders)  # important to get date order\n",
    "\n",
    "numAnalyzed = 0\n",
    "for oneFolder in dateFolders:\n",
    "    print('=== running analysis on folder:', oneFolder)\n",
    "    numAnalyzed += batchAnalyzeFolder(folderPath)\n",
    "\n",
    "print(f'done analyzing {len(dataFolders)} with {numAnalyzed} tif files.')\n",
    "    "
   ]
  },
  {
   "cell_type": "markdown",
   "id": "5eeaf078",
   "metadata": {},
   "source": [
    "## Run analysis for just one folder"
   ]
  },
  {
   "cell_type": "code",
   "execution_count": 2,
   "id": "4a0edf42",
   "metadata": {},
   "outputs": [
    {
     "name": "stderr",
     "output_type": "stream",
     "text": [
      " INFO analyzeflow.kymFlowRadon batchAnalyzeFolder() line:372 -- === tif file 1 of 10\n",
      " INFO analyzeflow.kymFlowFile analyzeFlowWithRadon() line:97 -- calling mpAnalyzeFlow() for Capillary 1.tif\n",
      " INFO analyzeflow.kymFlowRadon mpAnalyzeFlow() line:255 --   took 9 seconds\n",
      " INFO analyzeflow.kymFlowFile saveAnalysis() line:335 -- saving: ../../declan-flow-analysis-shared/data/20221202/20221202-analysis/Capillary 1.csv\n",
      " INFO analyzeflow.kymFlowRadon batchAnalyzeFolder() line:372 -- === tif file 2 of 10\n",
      " INFO analyzeflow.kymFlowFile analyzeFlowWithRadon() line:97 -- calling mpAnalyzeFlow() for Capillary 2.tif\n",
      " INFO analyzeflow.kymFlowRadon mpAnalyzeFlow() line:255 --   took 8 seconds\n",
      " INFO analyzeflow.kymFlowFile saveAnalysis() line:335 -- saving: ../../declan-flow-analysis-shared/data/20221202/20221202-analysis/Capillary 2.csv\n",
      " INFO analyzeflow.kymFlowRadon batchAnalyzeFolder() line:372 -- === tif file 3 of 10\n",
      " INFO analyzeflow.kymFlowFile analyzeFlowWithRadon() line:97 -- calling mpAnalyzeFlow() for Capillary10.tif\n",
      " INFO analyzeflow.kymFlowRadon mpAnalyzeFlow() line:255 --   took 6 seconds\n",
      " INFO analyzeflow.kymFlowFile saveAnalysis() line:335 -- saving: ../../declan-flow-analysis-shared/data/20221202/20221202-analysis/Capillary10.csv\n",
      " INFO analyzeflow.kymFlowRadon batchAnalyzeFolder() line:372 -- === tif file 4 of 10\n",
      " INFO analyzeflow.kymFlowFile analyzeFlowWithRadon() line:97 -- calling mpAnalyzeFlow() for Capillary3.tif\n",
      " INFO analyzeflow.kymFlowRadon mpAnalyzeFlow() line:255 --   took 9 seconds\n",
      " INFO analyzeflow.kymFlowFile saveAnalysis() line:335 -- saving: ../../declan-flow-analysis-shared/data/20221202/20221202-analysis/Capillary3.csv\n",
      " INFO analyzeflow.kymFlowRadon batchAnalyzeFolder() line:372 -- === tif file 5 of 10\n",
      " INFO analyzeflow.kymFlowFile analyzeFlowWithRadon() line:97 -- calling mpAnalyzeFlow() for Capillary4.tif\n",
      " INFO analyzeflow.kymFlowRadon mpAnalyzeFlow() line:255 --   took 11 seconds\n",
      " INFO analyzeflow.kymFlowFile saveAnalysis() line:335 -- saving: ../../declan-flow-analysis-shared/data/20221202/20221202-analysis/Capillary4.csv\n",
      " INFO analyzeflow.kymFlowRadon batchAnalyzeFolder() line:372 -- === tif file 6 of 10\n",
      " INFO analyzeflow.kymFlowFile analyzeFlowWithRadon() line:97 -- calling mpAnalyzeFlow() for Capillary5.tif\n",
      " INFO analyzeflow.kymFlowRadon mpAnalyzeFlow() line:255 --   took 8 seconds\n",
      " INFO analyzeflow.kymFlowFile saveAnalysis() line:335 -- saving: ../../declan-flow-analysis-shared/data/20221202/20221202-analysis/Capillary5.csv\n",
      " INFO analyzeflow.kymFlowRadon batchAnalyzeFolder() line:372 -- === tif file 7 of 10\n",
      " INFO analyzeflow.kymFlowFile analyzeFlowWithRadon() line:97 -- calling mpAnalyzeFlow() for Capillary6.tif\n",
      " INFO analyzeflow.kymFlowRadon mpAnalyzeFlow() line:255 --   took 6 seconds\n",
      " INFO analyzeflow.kymFlowFile saveAnalysis() line:335 -- saving: ../../declan-flow-analysis-shared/data/20221202/20221202-analysis/Capillary6.csv\n",
      " INFO analyzeflow.kymFlowRadon batchAnalyzeFolder() line:372 -- === tif file 8 of 10\n",
      " INFO analyzeflow.kymFlowFile analyzeFlowWithRadon() line:97 -- calling mpAnalyzeFlow() for Capillary7.tif\n",
      " INFO analyzeflow.kymFlowRadon mpAnalyzeFlow() line:255 --   took 8 seconds\n",
      " INFO analyzeflow.kymFlowFile saveAnalysis() line:335 -- saving: ../../declan-flow-analysis-shared/data/20221202/20221202-analysis/Capillary7.csv\n",
      " INFO analyzeflow.kymFlowRadon batchAnalyzeFolder() line:372 -- === tif file 9 of 10\n",
      " INFO analyzeflow.kymFlowFile analyzeFlowWithRadon() line:97 -- calling mpAnalyzeFlow() for Capillary8.tif\n",
      " INFO analyzeflow.kymFlowRadon mpAnalyzeFlow() line:255 --   took 7 seconds\n",
      " INFO analyzeflow.kymFlowFile saveAnalysis() line:335 -- saving: ../../declan-flow-analysis-shared/data/20221202/20221202-analysis/Capillary8.csv\n",
      " INFO analyzeflow.kymFlowRadon batchAnalyzeFolder() line:372 -- === tif file 10 of 10\n",
      " INFO analyzeflow.kymFlowFile analyzeFlowWithRadon() line:97 -- calling mpAnalyzeFlow() for Capillary9.tif\n",
      " INFO analyzeflow.kymFlowRadon mpAnalyzeFlow() line:255 --   took 8 seconds\n",
      " INFO analyzeflow.kymFlowFile saveAnalysis() line:335 -- saving: ../../declan-flow-analysis-shared/data/20221202/20221202-analysis/Capillary9.csv\n",
      " INFO analyzeflow.kymFlowRadon batchAnalyzeFolder() line:378 -- Done processing 10 tif files in folder ../../declan-flow-analysis-shared/data/20221202.\n"
     ]
    },
    {
     "data": {
      "text/plain": [
       "10"
      ]
     },
     "execution_count": 2,
     "metadata": {},
     "output_type": "execute_result"
    }
   ],
   "source": [
    "\n",
    "# folderPath = '../../declan-flow-analysis-shared/data/20221102'  # thinned skull\n",
    "folderPath = '../../declan-flow-analysis-shared/data/20221202'  # thinned skull\n",
    "# folderPath = '../../declan-flow-analysis-shared/data/20221206'  # thinned skull\n",
    "\n",
    "batchAnalyzeFolder(folderPath)\n"
   ]
  },
  {
   "cell_type": "markdown",
   "id": "d46d5118",
   "metadata": {},
   "source": [
    "## Run analysis for just one file"
   ]
  },
  {
   "cell_type": "code",
   "execution_count": 7,
   "id": "6b383435",
   "metadata": {},
   "outputs": [
    {
     "name": "stderr",
     "output_type": "stream",
     "text": [
      " INFO analyzeflow.kymFlowFile analyzeFlowWithRadon() line:97 -- calling mpAnalyzeFlow() for Capillary2.tif\n",
      " INFO analyzeflow.kymFlowRadon mpAnalyzeFlow() line:255 --   took 7 seconds\n",
      " INFO analyzeflow.kymFlowFile saveAnalysis() line:361 -- saving: ../../declan-flow-analysis-shared/20221102/20221102-analysis/Capillary2.csv\n"
     ]
    }
   ],
   "source": [
    "tifPath = '../../declan-flow-analysis-shared/20221102/Capillary2.tif'\n",
    "\n",
    "kff = kymFlowFile(tifPath)\n",
    "\n",
    "kff.analyzeFlowWithRadon()  # do actual kym radon analysis\n",
    "kff.saveAnalysis()  # save result to csv\n"
   ]
  },
  {
   "cell_type": "code",
   "execution_count": null,
   "id": "b4d9d16d",
   "metadata": {},
   "outputs": [],
   "source": []
  }
 ],
 "metadata": {
  "kernelspec": {
   "display_name": "Python 3 (ipykernel)",
   "language": "python",
   "name": "python3"
  },
  "language_info": {
   "codemirror_mode": {
    "name": "ipython",
    "version": 3
   },
   "file_extension": ".py",
   "mimetype": "text/x-python",
   "name": "python",
   "nbconvert_exporter": "python",
   "pygments_lexer": "ipython3",
   "version": "3.9.15"
  }
 },
 "nbformat": 4,
 "nbformat_minor": 5
}
