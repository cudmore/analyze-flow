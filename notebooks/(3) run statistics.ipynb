{
 "cells": [
  {
   "cell_type": "code",
   "execution_count": 22,
   "id": "3fb65960-c2be-4a6f-b01b-cd1ea0963325",
   "metadata": {},
   "outputs": [],
   "source": [
    "import pandas as pd\n",
    "import scipy.stats\n",
    "\n",
    "import matplotlib.pyplot as plt\n",
    "import seaborn as sns\n",
    "\n",
    "from IPython.display import display"
   ]
  },
  {
   "cell_type": "markdown",
   "id": "2256ec5c-b94c-41c2-a26e-dd56659ee955",
   "metadata": {},
   "source": [
    "## Load the summary output"
   ]
  },
  {
   "cell_type": "code",
   "execution_count": 30,
   "id": "ea1b6453-3490-4c05-938b-7e671c67e678",
   "metadata": {},
   "outputs": [],
   "source": [
    "path = '/media/cudmore/data/Dropbox/data/declan/data20230916/Baseline_Bloodflow_Master_Rosetta.csv'\n",
    "df = pd.read_csv(path)\n",
    "\n",
    "# add coefficient of variation column\n",
    "df['cvVel'] = df['stdVel'] / df['meanVel']"
   ]
  },
  {
   "cell_type": "markdown",
   "id": "cc4df71a-c2d3-4975-8be7-ab90b95bfb68",
   "metadata": {},
   "source": [
    "## Make a table of values for male and female\n",
    "\n",
    "We have a lot of experimental \"blocks\" including Genotype, Age, and Sex. There are other like branch order."
   ]
  },
  {
   "cell_type": "code",
   "execution_count": 48,
   "id": "05f538f7-489d-45b8-886f-42c08560be88",
   "metadata": {},
   "outputs": [
    {
     "data": {
      "text/html": [
       "<div>\n",
       "<style scoped>\n",
       "    .dataframe tbody tr th:only-of-type {\n",
       "        vertical-align: middle;\n",
       "    }\n",
       "\n",
       "    .dataframe tbody tr th {\n",
       "        vertical-align: top;\n",
       "    }\n",
       "\n",
       "    .dataframe thead th {\n",
       "        text-align: right;\n",
       "    }\n",
       "</style>\n",
       "<table border=\"1\" class=\"dataframe\">\n",
       "  <thead>\n",
       "    <tr style=\"text-align: right;\">\n",
       "      <th></th>\n",
       "      <th></th>\n",
       "      <th></th>\n",
       "      <th>count</th>\n",
       "      <th>mean</th>\n",
       "      <th>std</th>\n",
       "      <th>sem</th>\n",
       "      <th>median</th>\n",
       "    </tr>\n",
       "    <tr>\n",
       "      <th>Genotype</th>\n",
       "      <th>Age</th>\n",
       "      <th>Sex</th>\n",
       "      <th></th>\n",
       "      <th></th>\n",
       "      <th></th>\n",
       "      <th></th>\n",
       "      <th></th>\n",
       "    </tr>\n",
       "  </thead>\n",
       "  <tbody>\n",
       "    <tr>\n",
       "      <th rowspan=\"2\" valign=\"top\">Kv2.1-SMKO</th>\n",
       "      <th rowspan=\"2\" valign=\"top\">young</th>\n",
       "      <th>female</th>\n",
       "      <td>11</td>\n",
       "      <td>1.202553</td>\n",
       "      <td>0.563467</td>\n",
       "      <td>0.169892</td>\n",
       "      <td>1.054575</td>\n",
       "    </tr>\n",
       "    <tr>\n",
       "      <th>male</th>\n",
       "      <td>17</td>\n",
       "      <td>1.096939</td>\n",
       "      <td>0.604387</td>\n",
       "      <td>0.146585</td>\n",
       "      <td>0.930362</td>\n",
       "    </tr>\n",
       "    <tr>\n",
       "      <th>Kv2.1-TKO</th>\n",
       "      <th>young</th>\n",
       "      <th>male</th>\n",
       "      <td>11</td>\n",
       "      <td>1.016648</td>\n",
       "      <td>0.589593</td>\n",
       "      <td>0.177769</td>\n",
       "      <td>0.992503</td>\n",
       "    </tr>\n",
       "    <tr>\n",
       "      <th rowspan=\"3\" valign=\"top\">wt</th>\n",
       "      <th>old</th>\n",
       "      <th>female</th>\n",
       "      <td>7</td>\n",
       "      <td>1.427010</td>\n",
       "      <td>0.455642</td>\n",
       "      <td>0.172216</td>\n",
       "      <td>1.480199</td>\n",
       "    </tr>\n",
       "    <tr>\n",
       "      <th rowspan=\"2\" valign=\"top\">young</th>\n",
       "      <th>female</th>\n",
       "      <td>91</td>\n",
       "      <td>1.321435</td>\n",
       "      <td>0.513278</td>\n",
       "      <td>0.053806</td>\n",
       "      <td>1.248486</td>\n",
       "    </tr>\n",
       "    <tr>\n",
       "      <th>male</th>\n",
       "      <td>87</td>\n",
       "      <td>1.097362</td>\n",
       "      <td>0.683594</td>\n",
       "      <td>0.073289</td>\n",
       "      <td>0.935163</td>\n",
       "    </tr>\n",
       "  </tbody>\n",
       "</table>\n",
       "</div>"
      ],
      "text/plain": [
       "                         count      mean       std       sem    median\n",
       "Genotype   Age   Sex                                                  \n",
       "Kv2.1-SMKO young female     11  1.202553  0.563467  0.169892  1.054575\n",
       "                 male       17  1.096939  0.604387  0.146585  0.930362\n",
       "Kv2.1-TKO  young male       11  1.016648  0.589593  0.177769  0.992503\n",
       "wt         old   female      7  1.427010  0.455642  0.172216  1.480199\n",
       "           young female     91  1.321435  0.513278  0.053806  1.248486\n",
       "                 male       87  1.097362  0.683594  0.073289  0.935163"
      ]
     },
     "execution_count": 48,
     "metadata": {},
     "output_type": "execute_result"
    }
   ],
   "source": [
    "# get stats broken down by Genotype, Age, and Sex\n",
    "colList = ['Genotype', 'Age', 'Sex']\n",
    "aggList = [\"count\", \"mean\", \"std\", \"sem\", \"median\"]\n",
    "df.groupby(colList)['meanVel'].agg(aggList)"
   ]
  },
  {
   "cell_type": "code",
   "execution_count": 45,
   "id": "a7b9e3b5-3f03-4f0e-b65f-d7e70ae522f0",
   "metadata": {},
   "outputs": [
    {
     "name": "stdout",
     "output_type": "stream",
     "text": [
      "group meanVel by sex\n"
     ]
    },
    {
     "data": {
      "text/html": [
       "<div>\n",
       "<style scoped>\n",
       "    .dataframe tbody tr th:only-of-type {\n",
       "        vertical-align: middle;\n",
       "    }\n",
       "\n",
       "    .dataframe tbody tr th {\n",
       "        vertical-align: top;\n",
       "    }\n",
       "\n",
       "    .dataframe thead th {\n",
       "        text-align: right;\n",
       "    }\n",
       "</style>\n",
       "<table border=\"1\" class=\"dataframe\">\n",
       "  <thead>\n",
       "    <tr style=\"text-align: right;\">\n",
       "      <th></th>\n",
       "      <th>count</th>\n",
       "      <th>mean</th>\n",
       "      <th>std</th>\n",
       "      <th>sem</th>\n",
       "      <th>median</th>\n",
       "      <th>min</th>\n",
       "      <th>max</th>\n",
       "    </tr>\n",
       "    <tr>\n",
       "      <th>Sex</th>\n",
       "      <th></th>\n",
       "      <th></th>\n",
       "      <th></th>\n",
       "      <th></th>\n",
       "      <th></th>\n",
       "      <th></th>\n",
       "      <th></th>\n",
       "    </tr>\n",
       "  </thead>\n",
       "  <tbody>\n",
       "    <tr>\n",
       "      <th>female</th>\n",
       "      <td>98</td>\n",
       "      <td>1.328976</td>\n",
       "      <td>0.507967</td>\n",
       "      <td>0.051312</td>\n",
       "      <td>1.261423</td>\n",
       "      <td>0.430674</td>\n",
       "      <td>2.696625</td>\n",
       "    </tr>\n",
       "    <tr>\n",
       "      <th>male</th>\n",
       "      <td>87</td>\n",
       "      <td>1.097362</td>\n",
       "      <td>0.683594</td>\n",
       "      <td>0.073289</td>\n",
       "      <td>0.935163</td>\n",
       "      <td>0.118428</td>\n",
       "      <td>3.608026</td>\n",
       "    </tr>\n",
       "  </tbody>\n",
       "</table>\n",
       "</div>"
      ],
      "text/plain": [
       "        count      mean       std       sem    median       min       max\n",
       "Sex                                                                      \n",
       "female     98  1.328976  0.507967  0.051312  1.261423  0.430674  2.696625\n",
       "male       87  1.097362  0.683594  0.073289  0.935163  0.118428  3.608026"
      ]
     },
     "metadata": {},
     "output_type": "display_data"
    },
    {
     "name": "stdout",
     "output_type": "stream",
     "text": [
      "group cvVel by sex\n"
     ]
    },
    {
     "data": {
      "text/html": [
       "<div>\n",
       "<style scoped>\n",
       "    .dataframe tbody tr th:only-of-type {\n",
       "        vertical-align: middle;\n",
       "    }\n",
       "\n",
       "    .dataframe tbody tr th {\n",
       "        vertical-align: top;\n",
       "    }\n",
       "\n",
       "    .dataframe thead th {\n",
       "        text-align: right;\n",
       "    }\n",
       "</style>\n",
       "<table border=\"1\" class=\"dataframe\">\n",
       "  <thead>\n",
       "    <tr style=\"text-align: right;\">\n",
       "      <th></th>\n",
       "      <th>count</th>\n",
       "      <th>mean</th>\n",
       "      <th>std</th>\n",
       "      <th>sem</th>\n",
       "      <th>median</th>\n",
       "      <th>min</th>\n",
       "      <th>max</th>\n",
       "    </tr>\n",
       "    <tr>\n",
       "      <th>Sex</th>\n",
       "      <th></th>\n",
       "      <th></th>\n",
       "      <th></th>\n",
       "      <th></th>\n",
       "      <th></th>\n",
       "      <th></th>\n",
       "      <th></th>\n",
       "    </tr>\n",
       "  </thead>\n",
       "  <tbody>\n",
       "    <tr>\n",
       "      <th>female</th>\n",
       "      <td>98</td>\n",
       "      <td>0.147115</td>\n",
       "      <td>0.108965</td>\n",
       "      <td>0.011007</td>\n",
       "      <td>0.125798</td>\n",
       "      <td>0.043024</td>\n",
       "      <td>0.843469</td>\n",
       "    </tr>\n",
       "    <tr>\n",
       "      <th>male</th>\n",
       "      <td>87</td>\n",
       "      <td>0.195364</td>\n",
       "      <td>0.088868</td>\n",
       "      <td>0.009528</td>\n",
       "      <td>0.172771</td>\n",
       "      <td>0.045699</td>\n",
       "      <td>0.458681</td>\n",
       "    </tr>\n",
       "  </tbody>\n",
       "</table>\n",
       "</div>"
      ],
      "text/plain": [
       "        count      mean       std       sem    median       min       max\n",
       "Sex                                                                      \n",
       "female     98  0.147115  0.108965  0.011007  0.125798  0.043024  0.843469\n",
       "male       87  0.195364  0.088868  0.009528  0.172771  0.045699  0.458681"
      ]
     },
     "metadata": {},
     "output_type": "display_data"
    }
   ],
   "source": [
    "# reduce dataframe to just Genotype 'wt'\n",
    "dfWildType = df[df['Genotype'] == 'wt']\n",
    "\n",
    "aggList = [\"count\", \"mean\", \"std\", \"sem\", \"median\", \"min\", \"max\"]\n",
    "groupByColumnName = 'Sex'\n",
    "\n",
    "statName = 'meanVel'\n",
    "dfStat = dfWildType.groupby(groupByColumnName, as_index=False)[statName].agg(aggList)\n",
    "print('group meanVel by sex')\n",
    "display(dfStat)\n",
    "\n",
    "statName = 'cvVel'\n",
    "dfStat = dfWildType.groupby(groupByColumnName, as_index=False)[statName].agg(aggList)\n",
    "print('group cvVel by sex')\n",
    "display(dfStat)\n"
   ]
  },
  {
   "cell_type": "markdown",
   "id": "1a3b802c-497b-486c-bc3a-3636bd7eea1b",
   "metadata": {},
   "source": [
    "## Run some stats\n",
    "\n",
    "The Kruskal-Wallis H-test tests the null hypothesis that the population median of all of the groups are equal. It is a non-parametric version of ANOVA. The test works on 2 or more independent samples, which may have different sizes. Note that rejecting the null hypothesis does not indicate which of the groups differs. Post hoc comparisons between groups are required to determine which groups are different."
   ]
  },
  {
   "cell_type": "code",
   "execution_count": 40,
   "id": "d4a7fddc-bc39-4854-ad75-afe1bab3a0cf",
   "metadata": {},
   "outputs": [
    {
     "name": "stdout",
     "output_type": "stream",
     "text": [
      "meanVel: KruskalResult(statistic=10.878307719083296, pvalue=0.0009729710659360898)\n",
      "cvVel: KruskalResult(statistic=29.158392166655403, pvalue=6.669622234486506e-08)\n"
     ]
    }
   ],
   "source": [
    "# split into male/female polulations based on 'Sex' column\n",
    "dfMale = dfWildType[dfWildType['Sex']=='male']\n",
    "dfFemale = dfWildType[dfWildType['Sex']=='female']\n",
    "\n",
    "statName = 'meanVel'\n",
    "pop1 = dfMale[statName].to_numpy()\n",
    "pop2 = dfFemale[statName].to_numpy()\n",
    "kruskal1 = scipy.stats.kruskal(pop1, pop2, nan_policy='omit')\n",
    "print('meanVel:', kruskal1)\n",
    "\n",
    "statName = 'cvVel'\n",
    "pop1 = dfMale[statName].to_numpy()\n",
    "pop2 = dfFemale[statName].to_numpy()\n",
    "kruskal2 = scipy.stats.kruskal(pop1, pop2, nan_policy='omit')\n",
    "print('cvVel:', kruskal2)\n",
    "\n"
   ]
  },
  {
   "cell_type": "markdown",
   "id": "7cd16a19-923c-435c-84fd-e944a9e03dfa",
   "metadata": {},
   "source": [
    "This tells us there is a significant different between wildtype male and female mean velocity as well as the CV of velocity!.\n",
    "\n",
    "## Make some plots\n",
    "\n",
    "We will start by plotting cumulative histograms for both mean velocity and cv of velocity.\n",
    "\n",
    "We will do this for wildtype male versus female."
   ]
  },
  {
   "cell_type": "code",
   "execution_count": 49,
   "id": "e64ebb70-4026-4762-8afc-e1c3c5d8a018",
   "metadata": {},
   "outputs": [
    {
     "data": {
      "image/png": "[encoded data removed]",
      "text/plain": [
       "<Figure size 640x480 with 1 Axes>"
      ]
     },
     "metadata": {},
     "output_type": "display_data"
    },
    {
     "data": {
      "image/png": "[encoded data removed]",
      "text/plain": [
       "<Figure size 640x480 with 1 Axes>"
      ]
     },
     "metadata": {},
     "output_type": "display_data"
    }
   ],
   "source": [
    "\n",
    "hue = 'Sex'\n",
    "\n",
    "xStat = 'meanVel'\n",
    "g1 = sns.histplot(\n",
    "    x=xStat, hue=hue,\n",
    "    cumulative=True, stat=\"density\", element=\"step\", fill=False, common_norm=False,\n",
    "    data=dfWildType)\n",
    "plt.show()\n",
    "\n",
    "xStat = 'cvVel'\n",
    "g2 = sns.histplot(\n",
    "    x=xStat, hue=hue,\n",
    "    cumulative=True, stat=\"density\", element=\"step\", fill=False, common_norm=False,\n",
    "    data=dfWildType)\n"
   ]
  },
  {
   "cell_type": "markdown",
   "id": "9ea03c6c-0a69-4c7f-b7e3-8d4d0ff859f2",
   "metadata": {},
   "source": [
    "## Look at male mice across the three genotypes\n",
    "\n",
    "For now, exclude genotype 'Kv2.1-TKO'"
   ]
  },
  {
   "cell_type": "code",
   "execution_count": 79,
   "id": "aa3d3a94-658a-4b01-aa98-4d1f3a5e7715",
   "metadata": {},
   "outputs": [
    {
     "name": "stdout",
     "output_type": "stream",
     "text": [
      "cvVel female genotype wt has n = 98\n",
      "cvVel female genotype Kv2.1-SMKO has n = 11\n",
      "cvVel KruskalResult(statistic=15.949637375611417, pvalue=6.505023916758482e-05)\n"
     ]
    }
   ],
   "source": [
    "# grab just the male mice from original\n",
    "sex = 'male'\n",
    "sex = 'female'\n",
    "df2 = df[df['Sex']==sex]\n",
    "\n",
    "# statName = 'meanVel'\n",
    "statName = 'cvVel'\n",
    "popList = []\n",
    "genotypes = df2['Genotype'].unique()\n",
    "for genotype in genotypes:\n",
    "    if genotype == 'Kv2.1-TKO':\n",
    "        continue\n",
    "    aPop = df2[df2['Genotype']==genotype]\n",
    "    aPopValues = aPop[statName].to_numpy()\n",
    "    print(statName, sex, 'genotype', genotype, 'has n =', len(aPopValues))\n",
    "    popList.append(aPopValues)\n",
    "\n",
    "kruskal1 = scipy.stats.kruskal(*popList, nan_policy='omit')\n",
    "print(statName, kruskal1)"
   ]
  },
  {
   "cell_type": "markdown",
   "id": "a4b960c0-653d-4930-b4ad-e2130d86e989",
   "metadata": {},
   "source": [
    "An intermediate conclusion here is:\n",
    " - meanVel is not significant for this grouping\n",
    " - cvVel is significant between genotypes for female but not male?"
   ]
  },
  {
   "cell_type": "markdown",
   "id": "a865c959-7ab2-47f5-9bdb-0df4c5e89e4e",
   "metadata": {},
   "source": [
    "## Make some box plots grouping by sex and genotype\n"
   ]
  },
  {
   "cell_type": "code",
   "execution_count": 80,
   "id": "c3d8a1a0-6128-43b1-b3d4-525d297eb941",
   "metadata": {},
   "outputs": [
    {
     "data": {
      "image/png": "[encoded data removed]",
      "text/plain": [
       "<Figure size 640x480 with 1 Axes>"
      ]
     },
     "metadata": {},
     "output_type": "display_data"
    }
   ],
   "source": [
    "hue = 'Sex'\n",
    "data = df\n",
    "g = sns.boxplot(x='Genotype', y=statName, hue=hue, data=data)"
   ]
  },
  {
   "cell_type": "code",
   "execution_count": null,
   "id": "c1151dbe-aac0-405d-bd97-45547cb4249f",
   "metadata": {},
   "outputs": [],
   "source": []
  }
 ],
 "metadata": {
  "kernelspec": {
   "display_name": "Python 3 (ipykernel)",
   "language": "python",
   "name": "python3"
  },
  "language_info": {
   "codemirror_mode": {
    "name": "ipython",
    "version": 3
   },
   "file_extension": ".py",
   "mimetype": "text/x-python",
   "name": "python",
   "nbconvert_exporter": "python",
   "pygments_lexer": "ipython3",
   "version": "3.11.5"
  }
 },
 "nbformat": 4,
 "nbformat_minor": 5
}
